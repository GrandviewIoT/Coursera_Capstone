{
 "cells": [
  {
   "cell_type": "markdown",
   "metadata": {},
   "source": [
    "<h1 align=center><font size = 5>Final Exam - Battle of the Neighborhoods\n",
    "                     – Week 1 Submission\n",
    "</font></h1>"
   ]
  },
  {
   "cell_type": "markdown",
   "metadata": {},
   "source": [
    "## Introduction\n",
    "\n",
    "This report provides the four key requirements specified for the Week 1 submission. In addition, it includes some of the data related import and processing modules, as recommended by the Week 1 submission guidelines."
   ]
  },
  {
   "cell_type": "markdown",
   "metadata": {},
   "source": [
    "## Table of Contents\n",
    "\n",
    "<div class=\"alert alert-block alert-info\" style=\"margin-top: 20px\">\n",
    "\n",
    "<font size = 3>\n",
    "\n",
    "1. <a href=\"#item1\">Business Problem Introduction</a>\n",
    "\n",
    "2. <a href=\"#item2\">Data to Be Used</a>\n",
    "\n",
    "3. <a href=\"#item3\">Methodology and Analysis</a>\n",
    "\n",
    "4. <a href=\"#item4\">Results</a>\n",
    "\n",
    "5. <a href=\"#item5\">Discussion</a>    \n",
    "\n",
    "6. <a href=\"#item5\">Conclusion</a>    \n",
    "</font>\n",
    "</div>"
   ]
  },
  {
   "cell_type": "markdown",
   "metadata": {},
   "source": [
    "# 1. Business Problem Introduction"
   ]
  },
  {
   "cell_type": "markdown",
   "metadata": {},
   "source": [
    "Companies opening up new store fronts, have to deal with a myriad of issues: business licenses, regulatory requirements, sales and business taxes, competitors, and of course the biggest item: location, location, location. Positioning a store front in an advantageous location is one of, if not the, most important, key factor in a business’s ability to survive and thrive. The business problem this analysis attempts to solve, is to assist business owners with finding a set of potential locations to maximize their chances of success in opening a new store front. The specific “client” that this study will address, is a business owner that wants to open a new upscale (Steakhouse) restaurant in the Seattle area."
   ]
  },
  {
   "cell_type": "markdown",
   "metadata": {},
   "source": [
    "The overall strategy will be to find the highest revenue generating areas, in combination with the lowest number of potential competitors, within a given area. In addition, the total number of other nearby (non-restaurant) venues will be factored in, which act as additional “magnets” to entice more customers and foot traffic into the area that the business operates in."
   ]
  },
  {
   "cell_type": "markdown",
   "metadata": {},
   "source": [
    "Both a printed text summary of the best potential neighborhoods, as well as a Folium map showing the city of Seattle and the selected potential neighborhoods in graphic form, will be produced by the project."
   ]
  },
  {
   "cell_type": "markdown",
   "metadata": {},
   "source": [
    "## Who Would be Interested"
   ]
  },
  {
   "cell_type": "markdown",
   "metadata": {},
   "source": [
    "The typical client for this kind of service would be any business that wanted to open a new storefront in any of Seattle’s neighborhoods. The customer would be able to get a list of the top 10 neighborhoods that would have the best desired “draw” characteristics, as well as good potential (under-served areas) for the target business. "
   ]
  },
  {
   "cell_type": "markdown",
   "metadata": {},
   "source": [
    "While this specific project focuses on selecting restaurant locations, any type of store front business (not just restaurants) could be evaluated, by changing the target venue. "
   ]
  },
  {
   "cell_type": "markdown",
   "metadata": {},
   "source": [
    "# 2. Data To Be Used Section"
   ]
  },
  {
   "cell_type": "markdown",
   "metadata": {},
   "source": [
    "For this analysis, the following data is needed, in the form of CSV files that will be downloaded and generated as part of the reproducible source input data for the project:\n",
    "\n",
    "<div class=\"alert alert-block alert-info\" style=\"margin-top: 20px\">\n",
    "\n",
    "<font size = 3>\n",
    "\n",
    "1. <a href=\"#item1\">•\tFile containing text names of Seattle neighborhoods and associated (parent) Districts</a>\n",
    "\n",
    "2. <a href=\"#item2\">•\tFile containing zip codes of the Seattle neighborhoods</a>\n",
    "\n",
    "3. <a href=\"#item3\">•\tFiles containing recent Real Estate Housing sales and rents of Seattle neighborhoods</a>\n",
    "\n",
    "4. <a href=\"#item4\">•\tFour-Square data of current restaurant venues, including number of direct competitors, in the various Seattle neighborhoodss</a>\n",
    "\n",
    "5. <a href=\"#item5\">•\tFour-Square data of containing counts of current general venues in a given neighborhood to ascertain additional “magnets” and points of interest that would help increase foot traffic and potential “draw in” business in the area</a>    \n",
    "\n",
    "</font>\n",
    "</div>"
   ]
  },
  {
   "cell_type": "markdown",
   "metadata": {},
   "source": [
    "In an ideal world, a breakdown of overall retails sales or sales tax revenues by district, would be most valuable, in order to target the highest revenue generating areas, which would be most favorable for a high end upscale restaurant. While the city of Seattle and King County have very good data portals, they currently do not provide this level of detail. Instead, relevant sales revenue and sales taxes are currently only available as aggregate summaries by city, not by district or neighborhood. So as an approximation, housing prices and rent data (by neighborhood) will be used to select those districts and neighborhoods with the highest median values. These will be used to derive the best potential for an upscale restaurant."
   ]
  },
  {
   "cell_type": "markdown",
   "metadata": {},
   "source": [
    "The collected data will be used to determine which neighborhoods exist in the Seattle area, what are the income characteristics of each neighborhood, what competitors exist in each neighborhood, which neighborhoods might be being “under-served” (very few offerings or competitors in the area), and what “magnets” does the respective neighborhood have to draw people into the area. This information will be used to rank and select the top ranked 20 % of the neighborhoods. From there, additional analysis will be performed to whittle do the recommended locations to a “top 10” list."
   ]
  },
  {
   "cell_type": "markdown",
   "metadata": {},
   "source": [
    "## Data Sources"
   ]
  },
  {
   "cell_type": "markdown",
   "metadata": {},
   "source": [
    "The following data sources will be used by the project:\n",
    "\n",
    "<div class=\"alert alert-block alert-info\" style=\"margin-top: 20px\">\n",
    "\n",
    "<font size = 3>\n",
    "\n",
    "1. <a href=\"#item1\">•\tText Names of Seattle neighborhoods and districts – screen scraped via Python BeautifulSoup package from the following URL: https://en.wikipedia.org/wiki/List_of_neighborhoods_in_Seattle.html\n",
    "      The results will be saved in a CSV file, which will later be loaded into a Pandas “Neighborhoods” DataFrame\n",
    "</a>\n",
    "\n",
    "2. <a href=\"#item2\">•\tZip Codes of Seattle neighborhoods – the Nominatim geocode() API will be used to obtain the Zip code for each Seattle neighborhood, using the Neighborhood names contained in the Pandas “Neighborhoods” DataFrame. \n",
    "Nominatim was selected because of Google’s recently increased pricing for obtaining geo-coded data. Because Nominatim has a policy of no more than 1 request per second (which out getting throttled or rejected), a 2 second timer will be used between invocations. The results will be saved in a CSV file, that will later be merged into the Pandas “Neighborhoods”  DataFrame.\n",
    "</a>\n",
    "\n",
    "3. <a href=\"#item3\">•\tReal Estate Housing sales and rents in the Seattle neighborhoods – will be extracted from Zillow’s median Housing sales price and Rents Index data by neighborhood, which is downloaded from the following “Zillow Data” URL:\n",
    "          https://www.zillow.com/research/data/\n",
    "      The results will be saved in a CSV file, that will later be merged into the Pandas “Neighborhoods”  DataFrame\n",
    "</a>\n",
    "\n",
    "4. <a href=\"#item4\">•\tFour-Square data of current restaurant venues – invoked via FourSquare API and counted, and merged into the “Neighborhoods”  DataFrame</a>\n",
    "\n",
    "5. <a href=\"#item5\">•\tFour-Square data with counts of current general venues in a given neighborhood – invoked via FourSquare API and counted, and merged into the “Neighborhoods”  DataFrame</a>    \n",
    "\n",
    "</font>\n",
    "</div>"
   ]
  },
  {
   "cell_type": "markdown",
   "metadata": {},
   "source": [
    "# 3. Methodology and Analysis Section"
   ]
  },
  {
   "cell_type": "markdown",
   "metadata": {},
   "source": [
    "## Methodology Details"
   ]
  },
  {
   "cell_type": "markdown",
   "metadata": {},
   "source": [
    "In this section, we will do a detailed walk though of all the steps used in the analysis. This \n",
    "will walk through each step of the analysis, so that this report can be used to reproduce and verify the results of the analysis."
   ]
  },
  {
   "cell_type": "markdown",
   "metadata": {},
   "source": [
    "This section includes some of the data related import and processing modules, as recommended by the Week 1 submission guidelines."
   ]
  },
  {
   "cell_type": "markdown",
   "metadata": {},
   "source": [
    "#### First, setup all the python libraries dependencies that we will need."
   ]
  },
  {
   "cell_type": "code",
   "execution_count": 4,
   "metadata": {
    "collapsed": false
   },
   "outputs": [
    {
     "name": "stdout",
     "output_type": "stream",
     "text": [
      "Solving environment: done\n",
      "\n",
      "# All requested packages already installed.\n",
      "\n",
      "Solving environment: done\n",
      "\n",
      "# All requested packages already installed.\n",
      "\n",
      "python Libraries have been imported.\n"
     ]
    }
   ],
   "source": [
    "import numpy as np    # library to handle data in a vectorized manner\n",
    "\n",
    "import pandas as pd                     # library for data analsysis\n",
    "pd.set_option ('display.max_columns', None)\n",
    "pd.set_option ('display.max_rows', None)\n",
    "\n",
    "import json                             # library to handle JSON files\n",
    "\n",
    "!conda install -c conda-forge geopy --yes # uncomment this line if you haven't completed the Foursquare API lab\n",
    "from geopy.geocoders import Nominatim   # convert an address into latitude and longitude values\n",
    "\n",
    "import requests                           # library to handle requests\n",
    "from pandas.io.json import json_normalize # tranform JSON file into a pandas dataframe\n",
    "\n",
    "# Matplotlib and associated plotting modules\n",
    "import matplotlib.cm as cm\n",
    "import matplotlib.colors as colors\n",
    "\n",
    "# import k-means from clustering stage\n",
    "from sklearn.cluster import KMeans\n",
    "\n",
    "!conda install -c conda-forge folium=0.5.0 --yes # uncomment this line if you haven't completed the Foursquare API lab\n",
    "import folium                             # map rendering library\n",
    "\n",
    "# !pip install beautifulsoup4\n",
    "from bs4 import BeautifulSoup             # pull in HTML screen scraper support\n",
    "\n",
    "import csv\n",
    "\n",
    "import time                               # for sleep function\n",
    "\n",
    "print ('python Libraries have been imported.')"
   ]
  },
  {
   "cell_type": "markdown",
   "metadata": {},
   "source": [
    "<a id='item1'></a>"
   ]
  },
  {
   "cell_type": "markdown",
   "metadata": {},
   "source": [
    "## Download and Explore Datasets"
   ]
  },
  {
   "cell_type": "markdown",
   "metadata": {},
   "source": [
    "In order to segement the neighborhoods and explore them, we need to create a dataset that contains all the Seattle neighborhoods and their associated districts.\n",
    "\n",
    "So we need to download the following HTML web page, and then use the BeautifulSoup screen scraper to extract the data we need."
   ]
  },
  {
   "cell_type": "code",
   "execution_count": 5,
   "metadata": {
    "collapsed": false,
    "scrolled": true
   },
   "outputs": [
    {
     "name": "stdout",
     "output_type": "stream",
     "text": [
      "Seattle HTML Table data downloaded!\n"
     ]
    }
   ],
   "source": [
    "# Retreive List of neighborhoods from Seattle Wikipedia html\n",
    "\n",
    "url  = requests.get ('https://en.wikipedia.org/wiki/List_of_neighborhoods_in_Seattle')\n",
    "soup = BeautifulSoup (url.text, 'lxml')\n",
    "\n",
    "#print (soup.prettify())\n",
    "\n",
    "print ('Seattle HTML Table data downloaded!')"
   ]
  },
  {
   "cell_type": "markdown",
   "metadata": {},
   "source": [
    "#### Load and explore the data"
   ]
  },
  {
   "cell_type": "code",
   "execution_count": 6,
   "metadata": {
    "collapsed": false
   },
   "outputs": [
    {
     "name": "stdout",
     "output_type": "stream",
     "text": [
      "North Seattle Seattle\n",
      "Broadview North Seattle\n",
      "Bitter Lake North Seattle\n",
      "North Beach  North Seattle\n",
      "Crown Hill North Seattle\n",
      "Greenwood North Seattle\n",
      "Northgate North Seattle\n",
      "Haller Lake Northgate\n",
      "Pinehurst Northgate\n",
      "North College Park Northgate\n",
      "Maple Leaf Northgate\n",
      "Lake City North Seattle\n",
      "Cedar Park Lake City\n",
      "Matthews Beach Lake City\n",
      "Meadowbrook Lake City\n",
      "Olympic Hills Lake City\n",
      "Victory Heights Lake City\n",
      "Wedgwood North Seattle\n",
      "View Ridge North Seattle\n",
      "Sand Point North Seattle\n",
      "Roosevelt North Seattle\n",
      "Ravenna North Seattle\n",
      "Bryant North Seattle\n",
      "Windermere North Seattle\n",
      "Hawthorne Hills Windermere\n",
      "Laurelhurst North Seattle\n",
      "University District  North Seattle\n",
      "University Village Ravenna\n",
      "Wallingford North Seattle\n",
      "Northlake Lake Union \n",
      "Green Lake North Seattle\n",
      "Fremont North Seattle\n",
      "Phinney Ridge North Seattle\n",
      "Ballard North Seattle\n",
      "West Woodland Ballard\n",
      "Whittier Heights Ballard\n",
      "Adams Ballard\n",
      "Sunset Hill Ballard\n",
      "Loyal Heights Ballard\n",
      "Central Seattle Seattle\n",
      "Magnolia Central Seattle\n",
      "Lawton Park Magnolia\n",
      "Briarcliff Magnolia\n",
      "Southeast Magnolia Magnolia\n",
      "Interbay Central Seattle\n",
      "Queen Anne Central Seattle\n",
      "North Queen Anne Queen Anne\n",
      "East Queen Anne Queen Anne\n",
      "Lower Queen Anne Queen Anne\n",
      "West Queen Anne Queen Anne\n",
      "Capitol Hill Central Seattle\n",
      "Portage Bay Capitol Hill\n",
      "Broadway Capitol Hill\n",
      "Pike-Pine Corridor  Capitol Hill \n",
      "Montlake Capitol Hill\n",
      "Stevens Capitol Hill\n",
      "Interlaken Capitol Hill \n",
      "Madison Valley Capitol Hill \n",
      "Renton Hill Capitol Hill \n",
      "Madison Park Capitol Hill\n",
      "Broadmoor Madison Park\n",
      "Lake Union North Seattle \n",
      "South Lake Union Lake Union\n",
      "Cascade South Lake Union\n",
      "Westlake Lake Union\n",
      "Eastlake Lake Union\n",
      "Downtown Central Seattle\n",
      "Denny Regrade Downtown\n",
      "Belltown Downtown\n",
      "Pike-Market Downtown\n",
      "Central Business District Downtown\n",
      "First Hill Downtown\n",
      "Pioneer Square Downtown\n",
      "International District  Downtown\n",
      "Yesler Terrace Downtown\n",
      "Central Waterfront Downtown\n",
      "West Edge Downtown\n",
      "Central Area Central Seattle\n",
      "Mann Central Area\n",
      "Minor Central Area\n",
      "Cherry Hill & Squire Park Minor\n",
      "Atlantic Central Area\n",
      "Judkins Park Atlantic\n",
      "Madrona Central Area\n",
      "Madrona Valley Madrona\n",
      "Harrison Central Area\n",
      "Washington Park Harrison\n",
      "Leschi Central Area\n",
      "South End Seattle\n",
      "Rainier Valley South End\n",
      "Mount Baker Rainier Valley\n",
      "Columbia City Rainier Valley\n",
      "Hillman City Rainier Valley\n",
      "Brighton Rainier Valley\n",
      "Dunlap  Rainier Valley\n",
      "Rainier Beach  Rainier Valley\n",
      "Rainier View  Rainier Valley\n",
      "Seward Park South End\n",
      "Lakewood Seward Park\n",
      "Beacon Hill South End\n",
      "North Beacon Hill Beacon Hill\n",
      "Mid Beacon Hill  Beacon Hill\n",
      "Holly Park Beacon Hill\n",
      "South Beacon Hill Beacon Hill\n",
      "Industrial District South End\n",
      "SoDo Industrial District\n",
      "Harbor Island Industrial District\n",
      "Georgetown South End\n",
      "South Park South End\n",
      "West Seattle Seattle\n",
      "Alki Point West Seattle\n",
      "North Admiral West Seattle\n",
      "Junction West Seattle\n",
      "Seaview West Seattle\n",
      "Fairmount Park West Seattle\n",
      "Genesee West Seattle\n",
      "Gatewood West Seattle\n",
      "Fauntleroy West Seattle\n",
      "Arbor Heights West Seattle\n",
      "Delridge West Seattle \n",
      "North Delridge Delridge\n",
      "Pigeon Point Delridge\n",
      "Riverview Delridge\n",
      "Highland Park Delridge\n",
      "South Delridge Delridge\n",
      "Roxhill Delridge\n",
      "High Point Delridge\n"
     ]
    }
   ],
   "source": [
    "#  Generate a CSV file from the Web screen scraped data that we parsed from BeautifulSoup\n",
    "\n",
    "#with open ('toronto_postal.csv', 'w', newline='') as csv_file:\n",
    "csv_output_file = open ('seattle_neighborhoods.csv', 'w')\n",
    "csv_writer      = csv.writer (csv_output_file)\n",
    "csv_writer.writerow (['Neighborhood', 'District'])   # write out header line\n",
    "\n",
    "   # An examination of soup.prettify output shows that the data to be scraped\n",
    "   # is laid out as an HTML table, using:\n",
    "   #    <tr> (row begin) <td>xxx</td> <td>yyy</td> (detail columns) </tr> (row end)\n",
    "   # e.g. one of the table entries is shown below: \n",
    "   #    <tr> <th><small>2</small> <td><b>Central Seattle</b></td> <td>Seattle[45]</td> ... </tr>\n",
    "   #\n",
    "   # Some Districts also have a / designator, as well as a few Neightnbors\n",
    "   # Anything after the slashes and the citation [nn] need to be removed\n",
    "\n",
    "   # Scrape the data from the HTML table, using the <tr> and <td> tags\n",
    "for tr_row in soup.find_all('tr')[1:]:\n",
    "      td_col = tr_row.find_all ('td')\n",
    "      if len(td_col) >= 3:\n",
    "          Neighborhood = td_col[0].text\n",
    "          District     = td_col[1].text\n",
    "          # strip off any [] citations attached to District or neighborhood, and any slashes / or (\n",
    "          idx = District.find ('[')\n",
    "          if (idx > 0):\n",
    "             District = District[:idx]\n",
    "          idx = District.find ('/')\n",
    "          if (idx > 0):\n",
    "             District = District[:idx]\n",
    "          idx = Neighborhood.find ('[')\n",
    "          if (idx > 0):\n",
    "             Neighborhood = Neighborhood[:idx]\n",
    "          idx = Neighborhood.find ('/')\n",
    "          if (idx > 0):\n",
    "             Neighborhood = Neighborhood[:idx]\n",
    "          idx = Neighborhood.find ('(')\n",
    "          if (idx > 0):\n",
    "             Neighborhood = Neighborhood[:idx]\n",
    "          # And strip any trailing \\r or \\n characters\n",
    "          idx = District.find ('\\r')\n",
    "          if (idx > 0):\n",
    "             District = District[:idx]\n",
    "          idx = Neighborhood.find ('\\r')\n",
    "          if (idx > 0):\n",
    "             Neighborhood = Neighborhood[:idx]\n",
    "          idx = District.find ('\\n')\n",
    "          if (idx > 0):\n",
    "             District = District[:idx]\n",
    "          idx = Neighborhood.find ('\\n')\n",
    "          if (idx > 0):\n",
    "             Neighborhood = Neighborhood[:idx]\n",
    "          # strip any Neighbor Names that have commas on the tail\n",
    "          idx = Neighborhood.find (',')\n",
    "          if (idx > 0):\n",
    "             Neighborhood = Neighborhood[:idx]\n",
    "          # strip any Neighbor Names that have a \" at the front\n",
    "          idx = Neighborhood.find ('\"')\n",
    "          if (idx > 0):\n",
    "             Neighborhood = Neighborhood[1:]     \n",
    "          # do not write out any annotation entries of \"West Seattle is further divided into ...\"\n",
    "          if (Neighborhood.find('West Seattle is further divided') == -1):\n",
    "             csv_writer.writerow ([Neighborhood, District])\n",
    "             print (Neighborhood, District)\n",
    "\n",
    "csv_output_file.close()"
   ]
  },
  {
   "cell_type": "code",
   "execution_count": 7,
   "metadata": {},
   "outputs": [
    {
     "name": "stdout",
     "output_type": "stream",
     "text": [
      "Raw Seattle Neighborhoods shape is:  (127, 2)\n"
     ]
    },
    {
     "data": {
      "text/html": [
       "<div>\n",
       "<style scoped>\n",
       "    .dataframe tbody tr th:only-of-type {\n",
       "        vertical-align: middle;\n",
       "    }\n",
       "\n",
       "    .dataframe tbody tr th {\n",
       "        vertical-align: top;\n",
       "    }\n",
       "\n",
       "    .dataframe thead th {\n",
       "        text-align: right;\n",
       "    }\n",
       "</style>\n",
       "<table border=\"1\" class=\"dataframe\">\n",
       "  <thead>\n",
       "    <tr style=\"text-align: right;\">\n",
       "      <th></th>\n",
       "      <th>Neighborhood</th>\n",
       "      <th>District</th>\n",
       "    </tr>\n",
       "  </thead>\n",
       "  <tbody>\n",
       "    <tr>\n",
       "      <th>0</th>\n",
       "      <td>North Seattle</td>\n",
       "      <td>Seattle</td>\n",
       "    </tr>\n",
       "    <tr>\n",
       "      <th>1</th>\n",
       "      <td>Broadview</td>\n",
       "      <td>North Seattle</td>\n",
       "    </tr>\n",
       "    <tr>\n",
       "      <th>2</th>\n",
       "      <td>Bitter Lake</td>\n",
       "      <td>North Seattle</td>\n",
       "    </tr>\n",
       "    <tr>\n",
       "      <th>3</th>\n",
       "      <td>North Beach</td>\n",
       "      <td>North Seattle</td>\n",
       "    </tr>\n",
       "    <tr>\n",
       "      <th>4</th>\n",
       "      <td>Crown Hill</td>\n",
       "      <td>North Seattle</td>\n",
       "    </tr>\n",
       "    <tr>\n",
       "      <th>5</th>\n",
       "      <td>Greenwood</td>\n",
       "      <td>North Seattle</td>\n",
       "    </tr>\n",
       "    <tr>\n",
       "      <th>6</th>\n",
       "      <td>Northgate</td>\n",
       "      <td>North Seattle</td>\n",
       "    </tr>\n",
       "    <tr>\n",
       "      <th>7</th>\n",
       "      <td>Haller Lake</td>\n",
       "      <td>Northgate</td>\n",
       "    </tr>\n",
       "    <tr>\n",
       "      <th>8</th>\n",
       "      <td>Pinehurst</td>\n",
       "      <td>Northgate</td>\n",
       "    </tr>\n",
       "    <tr>\n",
       "      <th>9</th>\n",
       "      <td>North College Park</td>\n",
       "      <td>Northgate</td>\n",
       "    </tr>\n",
       "  </tbody>\n",
       "</table>\n",
       "</div>"
      ],
      "text/plain": [
       "         Neighborhood       District\n",
       "0       North Seattle        Seattle\n",
       "1           Broadview  North Seattle\n",
       "2         Bitter Lake  North Seattle\n",
       "3        North Beach   North Seattle\n",
       "4          Crown Hill  North Seattle\n",
       "5           Greenwood  North Seattle\n",
       "6           Northgate  North Seattle\n",
       "7         Haller Lake      Northgate\n",
       "8           Pinehurst      Northgate\n",
       "9  North College Park      Northgate"
      ]
     },
     "execution_count": 7,
     "metadata": {},
     "output_type": "execute_result"
    }
   ],
   "source": [
    "# convert the CSV file into a pandas dataframe, then print the first few entries\n",
    "\n",
    "df_seattle_raw = pd.read_csv ('seattle_neighborhoods.csv')\n",
    "\n",
    "print ('Raw Seattle Neighborhoods shape is: ', df_seattle_raw.shape)\n",
    "\n",
    "df_seattle_raw.head (10)"
   ]
  },
  {
   "cell_type": "markdown",
   "metadata": {},
   "source": [
    "## Data Wrangling/Cleaning\n",
    "\n",
    "As per class instructions, clean up the data we received."
   ]
  },
  {
   "cell_type": "code",
   "execution_count": 8,
   "metadata": {
    "collapsed": false
   },
   "outputs": [
    {
     "name": "stdout",
     "output_type": "stream",
     "text": [
      "Cleaned Seattle Neighborhoods shape is:  (127, 2)\n"
     ]
    },
    {
     "data": {
      "text/html": [
       "<div>\n",
       "<style scoped>\n",
       "    .dataframe tbody tr th:only-of-type {\n",
       "        vertical-align: middle;\n",
       "    }\n",
       "\n",
       "    .dataframe tbody tr th {\n",
       "        vertical-align: top;\n",
       "    }\n",
       "\n",
       "    .dataframe thead th {\n",
       "        text-align: right;\n",
       "    }\n",
       "</style>\n",
       "<table border=\"1\" class=\"dataframe\">\n",
       "  <thead>\n",
       "    <tr style=\"text-align: right;\">\n",
       "      <th></th>\n",
       "      <th>Neighborhood</th>\n",
       "      <th>District</th>\n",
       "    </tr>\n",
       "  </thead>\n",
       "  <tbody>\n",
       "    <tr>\n",
       "      <th>0</th>\n",
       "      <td>Judkins Park</td>\n",
       "      <td>Atlantic</td>\n",
       "    </tr>\n",
       "    <tr>\n",
       "      <th>1</th>\n",
       "      <td>Whittier Heights</td>\n",
       "      <td>Ballard</td>\n",
       "    </tr>\n",
       "    <tr>\n",
       "      <th>2</th>\n",
       "      <td>Adams</td>\n",
       "      <td>Ballard</td>\n",
       "    </tr>\n",
       "    <tr>\n",
       "      <th>3</th>\n",
       "      <td>Sunset Hill</td>\n",
       "      <td>Ballard</td>\n",
       "    </tr>\n",
       "    <tr>\n",
       "      <th>4</th>\n",
       "      <td>Loyal Heights</td>\n",
       "      <td>Ballard</td>\n",
       "    </tr>\n",
       "    <tr>\n",
       "      <th>5</th>\n",
       "      <td>West Woodland</td>\n",
       "      <td>Ballard</td>\n",
       "    </tr>\n",
       "    <tr>\n",
       "      <th>6</th>\n",
       "      <td>Holly Park</td>\n",
       "      <td>Beacon Hill</td>\n",
       "    </tr>\n",
       "    <tr>\n",
       "      <th>7</th>\n",
       "      <td>Mid Beacon Hill</td>\n",
       "      <td>Beacon Hill</td>\n",
       "    </tr>\n",
       "    <tr>\n",
       "      <th>8</th>\n",
       "      <td>North Beacon Hill</td>\n",
       "      <td>Beacon Hill</td>\n",
       "    </tr>\n",
       "    <tr>\n",
       "      <th>9</th>\n",
       "      <td>South Beacon Hill</td>\n",
       "      <td>Beacon Hill</td>\n",
       "    </tr>\n",
       "    <tr>\n",
       "      <th>10</th>\n",
       "      <td>Portage Bay</td>\n",
       "      <td>Capitol Hill</td>\n",
       "    </tr>\n",
       "    <tr>\n",
       "      <th>11</th>\n",
       "      <td>Montlake</td>\n",
       "      <td>Capitol Hill</td>\n",
       "    </tr>\n",
       "    <tr>\n",
       "      <th>12</th>\n",
       "      <td>Stevens</td>\n",
       "      <td>Capitol Hill</td>\n",
       "    </tr>\n",
       "    <tr>\n",
       "      <th>13</th>\n",
       "      <td>Broadway</td>\n",
       "      <td>Capitol Hill</td>\n",
       "    </tr>\n",
       "    <tr>\n",
       "      <th>14</th>\n",
       "      <td>Madison Park</td>\n",
       "      <td>Capitol Hill</td>\n",
       "    </tr>\n",
       "  </tbody>\n",
       "</table>\n",
       "</div>"
      ],
      "text/plain": [
       "         Neighborhood      District\n",
       "0        Judkins Park      Atlantic\n",
       "1    Whittier Heights       Ballard\n",
       "2               Adams       Ballard\n",
       "3         Sunset Hill       Ballard\n",
       "4       Loyal Heights       Ballard\n",
       "5       West Woodland       Ballard\n",
       "6          Holly Park   Beacon Hill\n",
       "7    Mid Beacon Hill    Beacon Hill\n",
       "8   North Beacon Hill   Beacon Hill\n",
       "9   South Beacon Hill   Beacon Hill\n",
       "10        Portage Bay  Capitol Hill\n",
       "11           Montlake  Capitol Hill\n",
       "12            Stevens  Capitol Hill\n",
       "13           Broadway  Capitol Hill\n",
       "14       Madison Park  Capitol Hill"
      ]
     },
     "execution_count": 8,
     "metadata": {},
     "output_type": "execute_result"
    }
   ],
   "source": [
    "# There are a few Neighborhoods on the Wiki table that are duplicated. Remove all but one\n",
    "\n",
    "df_seattle = df_seattle_raw.drop_duplicates (subset=None, keep='first', inplace=False)\n",
    "\n",
    "df_seattle.sort_values (by=['District'],ascending=True,inplace=True)  # sort into order and reset index to 0,1,2, ...\n",
    "df_seattle = df_seattle.reset_index (drop=True)\n",
    "\n",
    "print ('Cleaned Seattle Neighborhoods shape is: ', df_seattle.shape)\n",
    "\n",
    "df_seattle.head (15)"
   ]
  },
  {
   "cell_type": "code",
   "execution_count": 10,
   "metadata": {},
   "outputs": [
    {
     "name": "stderr",
     "output_type": "stream",
     "text": [
      "/home/jupyterlab/conda/lib/python3.6/site-packages/ipykernel_launcher.py:8: DeprecationWarning: Using Nominatim with the default \"geopy/1.18.1\" `user_agent` is strongly discouraged, as it violates Nominatim's ToS https://operations.osmfoundation.org/policies/nominatim/ and may possibly cause 403 and 429 HTTP errors. Please specify a custom `user_agent` with `Nominatim(user_agent=\"my-application\")` or by overriding the default `user_agent`: `geopy.geocoders.options.default_user_agent = \"my-application\"`. In geopy 2.0 this will become an exception.\n",
      "  \n"
     ]
    },
    {
     "name": "stdout",
     "output_type": "stream",
     "text": [
      "Seattle Geo Coordinates file write complete\n"
     ]
    }
   ],
   "source": [
    "# TBD Week 2 - Check if the Seatlle geo dataset has been created. If not, create it now\n",
    "\n",
    "# NOTE: Nominatim limits stuff to maximum of 1 request per second !!!  (we need to process 127 hoods)\n",
    "\n",
    "# skip this if the dataset already exists\n",
    "\n",
    "\n",
    "geolocator = Nominatim()     # instantiate the lookup object\n",
    "Nominatim (user_agent=\"my-application\")   # set specific application name to avoid default user agent complaint\n",
    "\n",
    "\n",
    "csv_geo_file = open ('Seattle_Geospatial_Coordinates.csv', 'w')\n",
    "csv_writer   = csv.writer (csv_geo_file)\n",
    "csv_writer.writerow (['Neighborhood', 'Latitude', 'Longitude'])   # write out header line\n",
    "\n",
    "# loop thru the above pandas dataset and append the Neighborhood name to Seattle\n",
    "# and then do a lookup on that, and save it into a csv file by neighbor hood name\n",
    "#   for row in csv_f:   # using a read_csv\n",
    "#       print (row)\n",
    "for i in range(0, len(df_seattle)):\n",
    "        Neighborhood = df_seattle.iloc[i]['Neighborhood']\n",
    "        # a bit brute force, but we only have to do it once (for 127 Neighborhoods)\n",
    "        address    = Neighborhood + ', Seattle, USA'\n",
    "        location   = geolocator.geocode (address)\n",
    "        if (location != None):\n",
    "           Latitude   = location.latitude\n",
    "           Longitude  = location.longitude\n",
    "        # if null, will just use the previous Lat/Long as default\n",
    "        csv_writer.writerow ([Neighborhood, Latitude, Longitude])\n",
    "        #print ('Address coords to {} are {}, {}.'.format(address, latitude, longitude))\n",
    "        time.sleep (2)         # Delays for 2 seconds to make Novatim happy. Can also use a float value.\n",
    "    \n",
    "csv_geo_file.close()\n",
    "print ('Seattle Geo Coordinates file write complete')"
   ]
  },
  {
   "cell_type": "code",
   "execution_count": 12,
   "metadata": {
    "collapsed": true
   },
   "outputs": [
    {
     "name": "stdout",
     "output_type": "stream",
     "text": [
      "Shape of Seattle Geo coordinate data is  (127, 3)\n"
     ]
    },
    {
     "data": {
      "text/html": [
       "<div>\n",
       "<style scoped>\n",
       "    .dataframe tbody tr th:only-of-type {\n",
       "        vertical-align: middle;\n",
       "    }\n",
       "\n",
       "    .dataframe tbody tr th {\n",
       "        vertical-align: top;\n",
       "    }\n",
       "\n",
       "    .dataframe thead th {\n",
       "        text-align: right;\n",
       "    }\n",
       "</style>\n",
       "<table border=\"1\" class=\"dataframe\">\n",
       "  <thead>\n",
       "    <tr style=\"text-align: right;\">\n",
       "      <th></th>\n",
       "      <th>Neighborhood</th>\n",
       "      <th>Latitude</th>\n",
       "      <th>Longitude</th>\n",
       "    </tr>\n",
       "  </thead>\n",
       "  <tbody>\n",
       "    <tr>\n",
       "      <th>0</th>\n",
       "      <td>Judkins Park</td>\n",
       "      <td>47.591470</td>\n",
       "      <td>-122.304069</td>\n",
       "    </tr>\n",
       "    <tr>\n",
       "      <th>1</th>\n",
       "      <td>Whittier Heights</td>\n",
       "      <td>47.683297</td>\n",
       "      <td>-122.371449</td>\n",
       "    </tr>\n",
       "    <tr>\n",
       "      <th>2</th>\n",
       "      <td>Adams</td>\n",
       "      <td>47.565300</td>\n",
       "      <td>-122.272014</td>\n",
       "    </tr>\n",
       "    <tr>\n",
       "      <th>3</th>\n",
       "      <td>Sunset Hill</td>\n",
       "      <td>47.675217</td>\n",
       "      <td>-122.398448</td>\n",
       "    </tr>\n",
       "    <tr>\n",
       "      <th>4</th>\n",
       "      <td>Loyal Heights</td>\n",
       "      <td>47.688709</td>\n",
       "      <td>-122.392907</td>\n",
       "    </tr>\n",
       "    <tr>\n",
       "      <th>5</th>\n",
       "      <td>West Woodland</td>\n",
       "      <td>47.675973</td>\n",
       "      <td>-122.347499</td>\n",
       "    </tr>\n",
       "    <tr>\n",
       "      <th>6</th>\n",
       "      <td>Holly Park</td>\n",
       "      <td>47.541650</td>\n",
       "      <td>-122.291929</td>\n",
       "    </tr>\n",
       "    <tr>\n",
       "      <th>7</th>\n",
       "      <td>Mid Beacon Hill</td>\n",
       "      <td>47.541650</td>\n",
       "      <td>-122.291929</td>\n",
       "    </tr>\n",
       "    <tr>\n",
       "      <th>8</th>\n",
       "      <td>North Beacon Hill</td>\n",
       "      <td>47.577586</td>\n",
       "      <td>-122.309960</td>\n",
       "    </tr>\n",
       "    <tr>\n",
       "      <th>9</th>\n",
       "      <td>South Beacon Hill</td>\n",
       "      <td>47.577586</td>\n",
       "      <td>-122.309960</td>\n",
       "    </tr>\n",
       "  </tbody>\n",
       "</table>\n",
       "</div>"
      ],
      "text/plain": [
       "        Neighborhood   Latitude   Longitude\n",
       "0       Judkins Park  47.591470 -122.304069\n",
       "1   Whittier Heights  47.683297 -122.371449\n",
       "2              Adams  47.565300 -122.272014\n",
       "3        Sunset Hill  47.675217 -122.398448\n",
       "4      Loyal Heights  47.688709 -122.392907\n",
       "5      West Woodland  47.675973 -122.347499\n",
       "6         Holly Park  47.541650 -122.291929\n",
       "7   Mid Beacon Hill   47.541650 -122.291929\n",
       "8  North Beacon Hill  47.577586 -122.309960\n",
       "9  South Beacon Hill  47.577586 -122.309960"
      ]
     },
     "execution_count": 12,
     "metadata": {},
     "output_type": "execute_result"
    }
   ],
   "source": [
    "# import the CSV file Seattle_Geospatial_Coordinates.csv that we created\n",
    "\n",
    "df_geospatial = pd.read_csv ('Seattle_Geospatial_Coordinates.csv')\n",
    "\n",
    "print ('Shape of Seattle Geo coordinate data is ', df_geospatial.shape)\n",
    "\n",
    "df_geospatial.head (10)"
   ]
  },
  {
   "cell_type": "code",
   "execution_count": 14,
   "metadata": {
    "collapsed": false
   },
   "outputs": [
    {
     "name": "stdout",
     "output_type": "stream",
     "text": [
      "Total Neighborhoods: 127\n",
      "Total Districts: 31\n",
      "Shape of merged dataframe is:  (127, 4)\n"
     ]
    },
    {
     "data": {
      "text/html": [
       "<div>\n",
       "<style scoped>\n",
       "    .dataframe tbody tr th:only-of-type {\n",
       "        vertical-align: middle;\n",
       "    }\n",
       "\n",
       "    .dataframe tbody tr th {\n",
       "        vertical-align: top;\n",
       "    }\n",
       "\n",
       "    .dataframe thead th {\n",
       "        text-align: right;\n",
       "    }\n",
       "</style>\n",
       "<table border=\"1\" class=\"dataframe\">\n",
       "  <thead>\n",
       "    <tr style=\"text-align: right;\">\n",
       "      <th></th>\n",
       "      <th>Neighborhood</th>\n",
       "      <th>District</th>\n",
       "      <th>Latitude</th>\n",
       "      <th>Longitude</th>\n",
       "    </tr>\n",
       "  </thead>\n",
       "  <tbody>\n",
       "    <tr>\n",
       "      <th>0</th>\n",
       "      <td>Judkins Park</td>\n",
       "      <td>Atlantic</td>\n",
       "      <td>47.591470</td>\n",
       "      <td>-122.304069</td>\n",
       "    </tr>\n",
       "    <tr>\n",
       "      <th>1</th>\n",
       "      <td>Whittier Heights</td>\n",
       "      <td>Ballard</td>\n",
       "      <td>47.683297</td>\n",
       "      <td>-122.371449</td>\n",
       "    </tr>\n",
       "    <tr>\n",
       "      <th>2</th>\n",
       "      <td>Adams</td>\n",
       "      <td>Ballard</td>\n",
       "      <td>47.565300</td>\n",
       "      <td>-122.272014</td>\n",
       "    </tr>\n",
       "    <tr>\n",
       "      <th>3</th>\n",
       "      <td>Sunset Hill</td>\n",
       "      <td>Ballard</td>\n",
       "      <td>47.675217</td>\n",
       "      <td>-122.398448</td>\n",
       "    </tr>\n",
       "    <tr>\n",
       "      <th>4</th>\n",
       "      <td>Loyal Heights</td>\n",
       "      <td>Ballard</td>\n",
       "      <td>47.688709</td>\n",
       "      <td>-122.392907</td>\n",
       "    </tr>\n",
       "    <tr>\n",
       "      <th>5</th>\n",
       "      <td>West Woodland</td>\n",
       "      <td>Ballard</td>\n",
       "      <td>47.675973</td>\n",
       "      <td>-122.347499</td>\n",
       "    </tr>\n",
       "    <tr>\n",
       "      <th>6</th>\n",
       "      <td>Holly Park</td>\n",
       "      <td>Beacon Hill</td>\n",
       "      <td>47.541650</td>\n",
       "      <td>-122.291929</td>\n",
       "    </tr>\n",
       "    <tr>\n",
       "      <th>7</th>\n",
       "      <td>Mid Beacon Hill</td>\n",
       "      <td>Beacon Hill</td>\n",
       "      <td>47.541650</td>\n",
       "      <td>-122.291929</td>\n",
       "    </tr>\n",
       "    <tr>\n",
       "      <th>8</th>\n",
       "      <td>North Beacon Hill</td>\n",
       "      <td>Beacon Hill</td>\n",
       "      <td>47.577586</td>\n",
       "      <td>-122.309960</td>\n",
       "    </tr>\n",
       "    <tr>\n",
       "      <th>9</th>\n",
       "      <td>South Beacon Hill</td>\n",
       "      <td>Beacon Hill</td>\n",
       "      <td>47.577586</td>\n",
       "      <td>-122.309960</td>\n",
       "    </tr>\n",
       "  </tbody>\n",
       "</table>\n",
       "</div>"
      ],
      "text/plain": [
       "        Neighborhood     District   Latitude   Longitude\n",
       "0       Judkins Park     Atlantic  47.591470 -122.304069\n",
       "1   Whittier Heights      Ballard  47.683297 -122.371449\n",
       "2              Adams      Ballard  47.565300 -122.272014\n",
       "3        Sunset Hill      Ballard  47.675217 -122.398448\n",
       "4      Loyal Heights      Ballard  47.688709 -122.392907\n",
       "5      West Woodland      Ballard  47.675973 -122.347499\n",
       "6         Holly Park  Beacon Hill  47.541650 -122.291929\n",
       "7   Mid Beacon Hill   Beacon Hill  47.541650 -122.291929\n",
       "8  North Beacon Hill  Beacon Hill  47.577586 -122.309960\n",
       "9  South Beacon Hill  Beacon Hill  47.577586 -122.309960"
      ]
     },
     "execution_count": 14,
     "metadata": {},
     "output_type": "execute_result"
    }
   ],
   "source": [
    "# now merge the geospatial data with the toronto postal data, using\n",
    "# Neighborhood as common key. This is equivalent to a SQL Join\n",
    "# resulting column_names = ['Neighborhood', 'District', 'Latitude', 'Longitude'] \n",
    "\n",
    "df_seattle_data = pd.merge (df_seattle, df_geospatial, left_on='Neighborhood', right_on='Neighborhood')\n",
    "\n",
    "print (\"Total Neighborhoods: \" + str(df_seattle_data['Neighborhood'].nunique()))\n",
    "print (\"Total Districts: \" + str(df_seattle_data['District'].nunique()))\n",
    "print ('Shape of merged dataframe is: ', df_seattle_data.shape)\n",
    "\n",
    "df_seattle_data.head (10)          # and check the results"
   ]
  },
  {
   "cell_type": "code",
   "execution_count": 15,
   "metadata": {},
   "outputs": [],
   "source": [
    "# import the Housing median sales CSV file that we downloaded from Zillow\n",
    "\n",
    "df_zillow_housing_raw = pd.read_csv ('Zillow_Housing_Sale_Prices_Neighborhood.csv')\n",
    "\n",
    "# then select just the rows containing Seattle\n",
    "# then rename the Neighborhood column\n",
    "# then sum up the 3 prior years house prices\n",
    "\n",
    "#df_zillow_housing_raw.head (10)"
   ]
  },
  {
   "cell_type": "code",
   "execution_count": 16,
   "metadata": {},
   "outputs": [],
   "source": [
    "# merge the above results into the df_seattle_data dataset\n",
    "\n",
    "# TBD Week 2"
   ]
  },
  {
   "cell_type": "code",
   "execution_count": 17,
   "metadata": {},
   "outputs": [],
   "source": [
    "# import the Rental Index values CSV file that we downloaded from Zillow\n",
    "\n",
    "df_zillow_rental_raw = pd.read_csv ('Zillow_Neighborhood_Rental_IndexZri_AllHomesPlusMultifamily_Summary.csv')\n",
    "\n",
    "# then select just the rows containing Seattle\n",
    "# then rename the Neighborhood column\n",
    "# then sum up the 3 prior years rental prices\n",
    "\n",
    "#df_zillow_rental_raw.head (10)"
   ]
  },
  {
   "cell_type": "code",
   "execution_count": 18,
   "metadata": {},
   "outputs": [],
   "source": [
    "# merge the above results into the df_seattle_data dataset\n",
    "# TBD Week 2"
   ]
  },
  {
   "cell_type": "code",
   "execution_count": null,
   "metadata": {},
   "outputs": [],
   "source": []
  },
  {
   "cell_type": "markdown",
   "metadata": {},
   "source": [
    "## Walk thru all the neighborhoods, and select the 20 % highest ones\n",
    "\n",
    "TBD Week 2  based on the df_seattle_data"
   ]
  },
  {
   "cell_type": "code",
   "execution_count": null,
   "metadata": {},
   "outputs": [],
   "source": []
  },
  {
   "cell_type": "code",
   "execution_count": null,
   "metadata": {},
   "outputs": [],
   "source": []
  },
  {
   "cell_type": "markdown",
   "metadata": {},
   "source": [
    "================================================================\n",
    "## Setup Four Square credentials\n",
    "================================================================"
   ]
  },
  {
   "cell_type": "code",
   "execution_count": 19,
   "metadata": {},
   "outputs": [
    {
     "name": "stdout",
     "output_type": "stream",
     "text": [
      "Your credentials:\n",
      "CLIENT_ID: xxxxxxxxxxxxxxxxxx\n",
      "CLIENT_SECRET: xxxxxxxxxxxxxxxxx\n"
     ]
    },
    {
     "ename": "TypeError",
     "evalue": "must be str, not int",
     "output_type": "error",
     "traceback": [
      "\u001b[0;31m---------------------------------------------------------------------------\u001b[0m",
      "\u001b[0;31mTypeError\u001b[0m                                 Traceback (most recent call last)",
      "\u001b[0;32m<ipython-input-19-f30434d87272>\u001b[0m in \u001b[0;36m<module>\u001b[0;34m\u001b[0m\n\u001b[1;32m      9\u001b[0m \u001b[0mprint\u001b[0m \u001b[0;34m(\u001b[0m\u001b[0;34m'CLIENT_ID: '\u001b[0m \u001b[0;34m+\u001b[0m \u001b[0mCLIENT_ID\u001b[0m\u001b[0;34m)\u001b[0m\u001b[0;34m\u001b[0m\u001b[0m\n\u001b[1;32m     10\u001b[0m \u001b[0mprint\u001b[0m \u001b[0;34m(\u001b[0m\u001b[0;34m'CLIENT_SECRET: '\u001b[0m \u001b[0;34m+\u001b[0m \u001b[0mCLIENT_SECRET\u001b[0m\u001b[0;34m)\u001b[0m\u001b[0;34m\u001b[0m\u001b[0m\n\u001b[0;32m---> 11\u001b[0;31m \u001b[0mprint\u001b[0m \u001b[0;34m(\u001b[0m\u001b[0;34m'LIMIT: '\u001b[0m \u001b[0;34m+\u001b[0m \u001b[0mLIMIT\u001b[0m\u001b[0;34m)\u001b[0m\u001b[0;34m\u001b[0m\u001b[0m\n\u001b[0m",
      "\u001b[0;31mTypeError\u001b[0m: must be str, not int"
     ]
    }
   ],
   "source": [
    "# use the 4-Square segmenting/clustering thing\n",
    "CLIENT_ID = 'xxxxxxxxxxxxxxxxxx' # my Foursquare ID\n",
    "CLIENT_SECRET = 'xxxxxxxxxxxxxxxxx' # my Foursquare Secret\n",
    "VERSION = '20180605' # Foursquare API version or '20180604'\n",
    "# CAUTION LIMIT must be same as shape (103). If set to 100 (default) later\n",
    "# processing dies because the frame shapes don't match (103 vs 100)\n",
    "LIMIT = 100\n",
    "print ('Your credentials:')\n",
    "print ('CLIENT_ID: ' + CLIENT_ID)\n",
    "print ('CLIENT_SECRET: ' + CLIENT_SECRET)\n",
    "print ('LIMIT: ' + LIMIT)"
   ]
  },
  {
   "cell_type": "markdown",
   "metadata": {},
   "source": [
    "## Explore a Competitive Businesses in each neighborhood using Four-Square\n"
   ]
  },
  {
   "cell_type": "code",
   "execution_count": 20,
   "metadata": {},
   "outputs": [],
   "source": [
    "# scan thru the top 20% Pandas Neighborhoods frame, and see how many competing restaraunts\n",
    "# there are in each of the selected neighborhoods\n",
    "\n",
    "# TBD week 2 "
   ]
  },
  {
   "cell_type": "code",
   "execution_count": 21,
   "metadata": {},
   "outputs": [
    {
     "ename": "NameError",
     "evalue": "name 'lat' is not defined",
     "output_type": "error",
     "traceback": [
      "\u001b[0;31m---------------------------------------------------------------------------\u001b[0m",
      "\u001b[0;31mNameError\u001b[0m                                 Traceback (most recent call last)",
      "\u001b[0;32m<ipython-input-21-9081eaad384b>\u001b[0m in \u001b[0;36m<module>\u001b[0;34m\u001b[0m\n\u001b[1;32m      5\u001b[0m             \u001b[0mCLIENT_SECRET\u001b[0m\u001b[0;34m,\u001b[0m\u001b[0;34m\u001b[0m\u001b[0m\n\u001b[1;32m      6\u001b[0m             \u001b[0mVERSION\u001b[0m\u001b[0;34m,\u001b[0m\u001b[0;34m\u001b[0m\u001b[0m\n\u001b[0;32m----> 7\u001b[0;31m             \u001b[0mlat\u001b[0m\u001b[0;34m,\u001b[0m\u001b[0;34m\u001b[0m\u001b[0m\n\u001b[0m\u001b[1;32m      8\u001b[0m             \u001b[0mlng\u001b[0m\u001b[0;34m,\u001b[0m\u001b[0;34m\u001b[0m\u001b[0m\n\u001b[1;32m      9\u001b[0m             \u001b[0mradius\u001b[0m\u001b[0;34m,\u001b[0m\u001b[0;34m\u001b[0m\u001b[0m\n",
      "\u001b[0;31mNameError\u001b[0m: name 'lat' is not defined"
     ]
    }
   ],
   "source": [
    "radius = 1000 # define radius of the area to search\n",
    "# create the API request URL\n",
    "url = 'https://api.foursquare.com/v2/venues/explore?&client_id={}&client_secret={}&v={}&ll={},{}&radius={}&limit={}'.format(\n",
    "            CLIENT_ID,\n",
    "            CLIENT_SECRET,\n",
    "            VERSION,\n",
    "            lat,\n",
    "            lng,\n",
    "            radius,\n",
    "            LIMIT)\n",
    "            \n",
    "# make the GET request to 4-Square, and get the returned results\n",
    "#results = requests.get(url).json()\n",
    "#results"
   ]
  },
  {
   "cell_type": "code",
   "execution_count": null,
   "metadata": {},
   "outputs": [],
   "source": []
  },
  {
   "cell_type": "markdown",
   "metadata": {},
   "source": [
    "From the Foursquare lab in Week 2, we know that all the information is in the *items* key. Before we proceed, let's borrow the **get_category_type** function from the Foursquare lab."
   ]
  },
  {
   "cell_type": "code",
   "execution_count": 22,
   "metadata": {
    "collapsed": true
   },
   "outputs": [],
   "source": [
    "# function that extracts the category of the venue\n",
    "def get_category_type (row):\n",
    "    try:\n",
    "        categories_list = row['categories']\n",
    "    except:\n",
    "        categories_list = row['venue.categories']\n",
    "        \n",
    "    if len(categories_list) == 0:\n",
    "        return None\n",
    "    else:\n",
    "        return categories_list[0]['name']"
   ]
  },
  {
   "cell_type": "markdown",
   "metadata": {},
   "source": [
    "Now we are ready to clean the json and structure it into a *pandas* dataframe."
   ]
  },
  {
   "cell_type": "code",
   "execution_count": 23,
   "metadata": {
    "collapsed": false
   },
   "outputs": [
    {
     "ename": "NameError",
     "evalue": "name 'results' is not defined",
     "output_type": "error",
     "traceback": [
      "\u001b[0;31m---------------------------------------------------------------------------\u001b[0m",
      "\u001b[0;31mNameError\u001b[0m                                 Traceback (most recent call last)",
      "\u001b[0;32m<ipython-input-23-ba8970b855e8>\u001b[0m in \u001b[0;36m<module>\u001b[0;34m\u001b[0m\n\u001b[1;32m      1\u001b[0m \u001b[0;31m# read in, and clean, the received JSON data, and put it in a DataFrame\u001b[0m\u001b[0;34m\u001b[0m\u001b[0;34m\u001b[0m\u001b[0m\n\u001b[1;32m      2\u001b[0m \u001b[0;34m\u001b[0m\u001b[0m\n\u001b[0;32m----> 3\u001b[0;31m \u001b[0mvenues\u001b[0m \u001b[0;34m=\u001b[0m \u001b[0mresults\u001b[0m\u001b[0;34m[\u001b[0m\u001b[0;34m'response'\u001b[0m\u001b[0;34m]\u001b[0m\u001b[0;34m[\u001b[0m\u001b[0;34m'groups'\u001b[0m\u001b[0;34m]\u001b[0m\u001b[0;34m[\u001b[0m\u001b[0;36m0\u001b[0m\u001b[0;34m]\u001b[0m\u001b[0;34m[\u001b[0m\u001b[0;34m'items'\u001b[0m\u001b[0;34m]\u001b[0m\u001b[0;34m\u001b[0m\u001b[0m\n\u001b[0m\u001b[1;32m      4\u001b[0m \u001b[0;34m\u001b[0m\u001b[0m\n\u001b[1;32m      5\u001b[0m \u001b[0mnearby_venues\u001b[0m \u001b[0;34m=\u001b[0m \u001b[0mjson_normalize\u001b[0m \u001b[0;34m(\u001b[0m\u001b[0mvenues\u001b[0m\u001b[0;34m)\u001b[0m     \u001b[0;31m# flatten JSON\u001b[0m\u001b[0;34m\u001b[0m\u001b[0m\n",
      "\u001b[0;31mNameError\u001b[0m: name 'results' is not defined"
     ]
    }
   ],
   "source": [
    "# read in, and clean, the received JSON data, and put it in a DataFrame\n",
    "\n",
    "venues = results['response']['groups'][0]['items']\n",
    "    \n",
    "nearby_venues = json_normalize (venues)     # flatten JSON\n",
    "\n",
    "# filter columns\n",
    "filtered_columns = ['venue.name', 'venue.categories', 'venue.location.lat', 'venue.location.lng']\n",
    "nearby_venues    = nearby_venues.loc[:, filtered_columns]\n",
    "\n",
    "# filter the category for each row\n",
    "nearby_venues['venue.categories'] = nearby_venues.apply(get_category_type, axis=1)\n",
    "\n",
    "# clean columns\n",
    "nearby_venues.columns = [col.split(\".\")[-1] for col in nearby_venues.columns]\n",
    "\n",
    "nearby_venues.head()"
   ]
  },
  {
   "cell_type": "markdown",
   "metadata": {},
   "source": [
    "And how many venues were returned by Foursquare?"
   ]
  },
  {
   "cell_type": "code",
   "execution_count": 31,
   "metadata": {
    "collapsed": false
   },
   "outputs": [
    {
     "name": "stdout",
     "output_type": "stream",
     "text": [
      "2 venues were returned by Foursquare.\n"
     ]
    }
   ],
   "source": [
    "print ('{} venues were returned by Foursquare.'.format(nearby_venues.shape[0]))"
   ]
  },
  {
   "cell_type": "markdown",
   "metadata": {},
   "source": [
    "<a id='item2'></a>"
   ]
  },
  {
   "cell_type": "markdown",
   "metadata": {},
   "source": [
    "## 2. Explore Suite of Venues in the the Neighborhoods"
   ]
  },
  {
   "cell_type": "markdown",
   "metadata": {},
   "source": [
    "#### Create a function to repeat the same process to all the neighborhoods in Seattle"
   ]
  },
  {
   "cell_type": "code",
   "execution_count": 33,
   "metadata": {
    "collapsed": true
   },
   "outputs": [],
   "source": [
    "def  getNearbyVenues (names, latitudes, longitudes, radius=500):\n",
    "    \n",
    "    venues_list=[]\n",
    "    for name, lat, lng in zip(names, latitudes, longitudes):\n",
    "        print (name)\n",
    "            \n",
    "        # create the API request URL\n",
    "        url = 'https://api.foursquare.com/v2/venues/explore?&client_id={}&client_secret={}&v={}&ll={},{}&radius={}&limit={}'.format(\n",
    "            CLIENT_ID, \n",
    "            CLIENT_SECRET, \n",
    "            VERSION, \n",
    "            lat, \n",
    "            lng, \n",
    "            radius, \n",
    "            LIMIT)\n",
    "            \n",
    "        # make the GET request\n",
    "        results = requests.get(url).json()[\"response\"]['groups'][0]['items']\n",
    "        \n",
    "        # return only relevant information for each nearby venue\n",
    "        venues_list.append ([(\n",
    "            name, \n",
    "            lat, \n",
    "            lng, \n",
    "            v['venue']['name'], \n",
    "            v['venue']['location']['lat'], \n",
    "            v['venue']['location']['lng'],  \n",
    "            v['venue']['categories'][0]['name']) for v in results])\n",
    "\n",
    "    nearby_venues = pd.DataFrame ([item for venue_list in venues_list for item in venue_list])\n",
    "    \n",
    "    nearby_venues.columns = ['Neighborhood', \n",
    "                  'Neighborhood Latitude', \n",
    "                  'Neighborhood Longitude', \n",
    "                  'Venue', \n",
    "                  'Venue Latitude', \n",
    "                  'Venue Longitude', \n",
    "                  'Venue Category']\n",
    "    \n",
    "    return (nearby_venues)"
   ]
  },
  {
   "cell_type": "markdown",
   "metadata": {},
   "source": [
    "#### Now write the code to run the above function on each selected neighborhood and create a new dataframe called *seattle_venues*."
   ]
  },
  {
   "cell_type": "code",
   "execution_count": 24,
   "metadata": {
    "collapsed": false,
    "scrolled": true
   },
   "outputs": [
    {
     "ename": "NameError",
     "evalue": "name 'getNearbyVenues' is not defined",
     "output_type": "error",
     "traceback": [
      "\u001b[0;31m---------------------------------------------------------------------------\u001b[0m",
      "\u001b[0;31mNameError\u001b[0m                                 Traceback (most recent call last)",
      "\u001b[0;32m<ipython-input-24-8854e8853a2c>\u001b[0m in \u001b[0;36m<module>\u001b[0;34m\u001b[0m\n\u001b[1;32m      2\u001b[0m \u001b[0;31m# and save the results in a data frame\u001b[0m\u001b[0;34m\u001b[0m\u001b[0;34m\u001b[0m\u001b[0m\n\u001b[1;32m      3\u001b[0m \u001b[0;34m\u001b[0m\u001b[0m\n\u001b[0;32m----> 4\u001b[0;31m seattle_venues = getNearbyVenues (names = df_seattle_data['Neighbourhood'],\n\u001b[0m\u001b[1;32m      5\u001b[0m                                   \u001b[0mlatitudes\u001b[0m \u001b[0;34m=\u001b[0m \u001b[0mdf_seattle_data\u001b[0m\u001b[0;34m[\u001b[0m\u001b[0;34m'Latitude'\u001b[0m\u001b[0;34m]\u001b[0m\u001b[0;34m,\u001b[0m\u001b[0;34m\u001b[0m\u001b[0m\n\u001b[1;32m      6\u001b[0m                                   \u001b[0mlongitudes\u001b[0m \u001b[0;34m=\u001b[0m \u001b[0mdf_seattle_data\u001b[0m\u001b[0;34m[\u001b[0m\u001b[0;34m'Longitude'\u001b[0m\u001b[0;34m]\u001b[0m\u001b[0;34m\u001b[0m\u001b[0m\n",
      "\u001b[0;31mNameError\u001b[0m: name 'getNearbyVenues' is not defined"
     ]
    }
   ],
   "source": [
    "# invoke the 4-Square functions for each of the neighborhoods,\n",
    "# and save the results in a data frame\n",
    "\n",
    "seattle_venues = getNearbyVenues (names = df_seattle_data['Neighbourhood'],\n",
    "                                  latitudes = df_seattle_data['Latitude'],\n",
    "                                  longitudes = df_seattle_data['Longitude']\n",
    "                                 )"
   ]
  },
  {
   "cell_type": "markdown",
   "metadata": {},
   "source": [
    "#### Check the size and shape of the resulting dataframe"
   ]
  },
  {
   "cell_type": "code",
   "execution_count": 25,
   "metadata": {
    "collapsed": false
   },
   "outputs": [
    {
     "ename": "NameError",
     "evalue": "name 'seattle_venues' is not defined",
     "output_type": "error",
     "traceback": [
      "\u001b[0;31m---------------------------------------------------------------------------\u001b[0m",
      "\u001b[0;31mNameError\u001b[0m                                 Traceback (most recent call last)",
      "\u001b[0;32m<ipython-input-25-91a4c12087d1>\u001b[0m in \u001b[0;36m<module>\u001b[0;34m\u001b[0m\n\u001b[0;32m----> 1\u001b[0;31m \u001b[0mprint\u001b[0m \u001b[0;34m(\u001b[0m\u001b[0;34m\"Total Unique Neighbourhoods returned with Venues: \"\u001b[0m \u001b[0;34m+\u001b[0m \u001b[0mstr\u001b[0m\u001b[0;34m(\u001b[0m\u001b[0mseattle_venues\u001b[0m\u001b[0;34m[\u001b[0m\u001b[0;34m'Neighborhood'\u001b[0m\u001b[0;34m]\u001b[0m\u001b[0;34m.\u001b[0m\u001b[0mnunique\u001b[0m\u001b[0;34m(\u001b[0m\u001b[0;34m)\u001b[0m\u001b[0;34m)\u001b[0m\u001b[0;34m)\u001b[0m\u001b[0;34m\u001b[0m\u001b[0m\n\u001b[0m\u001b[1;32m      2\u001b[0m \u001b[0mprint\u001b[0m \u001b[0;34m(\u001b[0m\u001b[0;34m'Total number and shape of venues results returned='\u001b[0m\u001b[0;34m,\u001b[0m \u001b[0mseattle_venues\u001b[0m\u001b[0;34m.\u001b[0m\u001b[0mshape\u001b[0m\u001b[0;34m)\u001b[0m\u001b[0;34m\u001b[0m\u001b[0m\n\u001b[1;32m      3\u001b[0m \u001b[0mseattleo_venues\u001b[0m\u001b[0;34m.\u001b[0m\u001b[0mhead\u001b[0m \u001b[0;34m(\u001b[0m\u001b[0;36m10\u001b[0m\u001b[0;34m)\u001b[0m\u001b[0;34m\u001b[0m\u001b[0m\n",
      "\u001b[0;31mNameError\u001b[0m: name 'seattle_venues' is not defined"
     ]
    }
   ],
   "source": [
    "print (\"Total Unique Neighbourhoods returned with Venues: \" + str(seattle_venues['Neighborhood'].nunique()))\n",
    "print ('Total number and shape of venues results returned=', seattle_venues.shape)\n",
    "seattleo_venues.head (10)"
   ]
  },
  {
   "cell_type": "markdown",
   "metadata": {},
   "source": [
    "### Check how many venues were returned for each neighborhood"
   ]
  },
  {
   "cell_type": "code",
   "execution_count": 26,
   "metadata": {
    "collapsed": false
   },
   "outputs": [
    {
     "ename": "NameError",
     "evalue": "name 'seattle_venues' is not defined",
     "output_type": "error",
     "traceback": [
      "\u001b[0;31m---------------------------------------------------------------------------\u001b[0m",
      "\u001b[0;31mNameError\u001b[0m                                 Traceback (most recent call last)",
      "\u001b[0;32m<ipython-input-26-a1871a47c649>\u001b[0m in \u001b[0;36m<module>\u001b[0;34m\u001b[0m\n\u001b[0;32m----> 1\u001b[0;31m \u001b[0mseattle_venues\u001b[0m\u001b[0;34m.\u001b[0m\u001b[0mgroupby\u001b[0m \u001b[0;34m(\u001b[0m\u001b[0;34m'Neighborhood'\u001b[0m\u001b[0;34m)\u001b[0m\u001b[0;34m.\u001b[0m\u001b[0mcount\u001b[0m\u001b[0;34m(\u001b[0m\u001b[0;34m)\u001b[0m\u001b[0;34m\u001b[0m\u001b[0m\n\u001b[0m",
      "\u001b[0;31mNameError\u001b[0m: name 'seattle_venues' is not defined"
     ]
    }
   ],
   "source": [
    "seattle_venues.groupby ('Neighborhood').count()"
   ]
  },
  {
   "cell_type": "markdown",
   "metadata": {},
   "source": [
    "#### Let's find out how many unique categories can be curated from all the returned venues"
   ]
  },
  {
   "cell_type": "code",
   "execution_count": 37,
   "metadata": {
    "collapsed": false
   },
   "outputs": [
    {
     "name": "stdout",
     "output_type": "stream",
     "text": [
      "There are 279 unique categories.\n"
     ]
    }
   ],
   "source": [
    "print ('There are {} unique categories.'.format(len(toronto_venues['Venue Category'].unique())))"
   ]
  },
  {
   "cell_type": "markdown",
   "metadata": {},
   "source": [
    "<a id='item3'></a>"
   ]
  },
  {
   "cell_type": "markdown",
   "metadata": {},
   "source": [
    "## 3. Analyze Each Neighborhood"
   ]
  },
  {
   "cell_type": "code",
   "execution_count": 27,
   "metadata": {
    "collapsed": false
   },
   "outputs": [
    {
     "ename": "NameError",
     "evalue": "name 'seattle_venues' is not defined",
     "output_type": "error",
     "traceback": [
      "\u001b[0;31m---------------------------------------------------------------------------\u001b[0m",
      "\u001b[0;31mNameError\u001b[0m                                 Traceback (most recent call last)",
      "\u001b[0;32m<ipython-input-27-5e79651b3f40>\u001b[0m in \u001b[0;36m<module>\u001b[0;34m\u001b[0m\n\u001b[1;32m      2\u001b[0m \u001b[0;31m#  one hot encoding\u001b[0m\u001b[0;34m\u001b[0m\u001b[0;34m\u001b[0m\u001b[0m\n\u001b[1;32m      3\u001b[0m \u001b[0;31m#######################\u001b[0m\u001b[0;34m\u001b[0m\u001b[0;34m\u001b[0m\u001b[0m\n\u001b[0;32m----> 4\u001b[0;31m \u001b[0mseattle_onehot\u001b[0m \u001b[0;34m=\u001b[0m \u001b[0mpd\u001b[0m\u001b[0;34m.\u001b[0m\u001b[0mget_dummies\u001b[0m \u001b[0;34m(\u001b[0m\u001b[0mseattle_venues\u001b[0m\u001b[0;34m[\u001b[0m\u001b[0;34m[\u001b[0m\u001b[0;34m'Venue Category'\u001b[0m\u001b[0;34m]\u001b[0m\u001b[0;34m]\u001b[0m\u001b[0;34m,\u001b[0m \u001b[0mprefix\u001b[0m\u001b[0;34m=\u001b[0m\u001b[0;34m\"\"\u001b[0m\u001b[0;34m,\u001b[0m \u001b[0mprefix_sep\u001b[0m\u001b[0;34m=\u001b[0m\u001b[0;34m\"\"\u001b[0m\u001b[0;34m)\u001b[0m\u001b[0;34m\u001b[0m\u001b[0m\n\u001b[0m\u001b[1;32m      5\u001b[0m \u001b[0;34m\u001b[0m\u001b[0m\n\u001b[1;32m      6\u001b[0m \u001b[0;31m# add neighborhood column back to dataframe\u001b[0m\u001b[0;34m\u001b[0m\u001b[0;34m\u001b[0m\u001b[0m\n",
      "\u001b[0;31mNameError\u001b[0m: name 'seattle_venues' is not defined"
     ]
    }
   ],
   "source": [
    "#######################\n",
    "#  one hot encoding\n",
    "#######################\n",
    "seattle_onehot = pd.get_dummies (seattle_venues[['Venue Category']], prefix=\"\", prefix_sep=\"\")\n",
    "\n",
    "# add neighborhood column back to dataframe\n",
    "seattle_onehot['Neighborhood'] = seattle_venues['Neighborhood'] \n",
    "\n",
    "# move neighborhood column to the first column\n",
    "fixed_columns  = [seattle_onehot.columns[-1]] + list(toronto_onehot.columns[:-1])\n",
    "seattle_onehot = seattle_onehot[fixed_columns]\n",
    "\n",
    "seattle_onehot.head()"
   ]
  },
  {
   "cell_type": "markdown",
   "metadata": {},
   "source": [
    "And let's examine the new dataframe size."
   ]
  },
  {
   "cell_type": "code",
   "execution_count": 39,
   "metadata": {
    "collapsed": false
   },
   "outputs": [
    {
     "data": {
      "text/plain": [
       "(2233, 279)"
      ]
     },
     "execution_count": 39,
     "metadata": {},
     "output_type": "execute_result"
    }
   ],
   "source": [
    "seattle_onehot.shape"
   ]
  },
  {
   "cell_type": "markdown",
   "metadata": {},
   "source": [
    "#### Group the rows by neighborhood and by taking the mean of the frequency of occurrence of each category"
   ]
  },
  {
   "cell_type": "code",
   "execution_count": 28,
   "metadata": {
    "collapsed": false
   },
   "outputs": [
    {
     "ename": "NameError",
     "evalue": "name 'seattle_onehot' is not defined",
     "output_type": "error",
     "traceback": [
      "\u001b[0;31m---------------------------------------------------------------------------\u001b[0m",
      "\u001b[0;31mNameError\u001b[0m                                 Traceback (most recent call last)",
      "\u001b[0;32m<ipython-input-28-70a4076340f8>\u001b[0m in \u001b[0;36m<module>\u001b[0;34m\u001b[0m\n\u001b[0;32m----> 1\u001b[0;31m \u001b[0mseattle_grouped\u001b[0m \u001b[0;34m=\u001b[0m \u001b[0mseattle_onehot\u001b[0m\u001b[0;34m.\u001b[0m\u001b[0mgroupby\u001b[0m\u001b[0;34m(\u001b[0m\u001b[0;34m'Neighborhood'\u001b[0m\u001b[0;34m)\u001b[0m\u001b[0;34m.\u001b[0m\u001b[0mmean\u001b[0m\u001b[0;34m(\u001b[0m\u001b[0;34m)\u001b[0m\u001b[0;34m.\u001b[0m\u001b[0mreset_index\u001b[0m\u001b[0;34m(\u001b[0m\u001b[0;34m)\u001b[0m\u001b[0;34m\u001b[0m\u001b[0m\n\u001b[0m\u001b[1;32m      2\u001b[0m \u001b[0;34m\u001b[0m\u001b[0m\n\u001b[1;32m      3\u001b[0m \u001b[0mseattle_grouped\u001b[0m\u001b[0;34m\u001b[0m\u001b[0m\n",
      "\u001b[0;31mNameError\u001b[0m: name 'seattle_onehot' is not defined"
     ]
    }
   ],
   "source": [
    "seattle_grouped = seattle_onehot.groupby('Neighborhood').mean().reset_index()\n",
    "\n",
    "seattle_grouped"
   ]
  },
  {
   "cell_type": "markdown",
   "metadata": {},
   "source": [
    "#### Confirm the new size"
   ]
  },
  {
   "cell_type": "code",
   "execution_count": 42,
   "metadata": {
    "collapsed": false
   },
   "outputs": [
    {
     "data": {
      "text/plain": [
       "(101, 279)"
      ]
     },
     "execution_count": 42,
     "metadata": {},
     "output_type": "execute_result"
    }
   ],
   "source": [
    "seattle_grouped.shape"
   ]
  },
  {
   "cell_type": "markdown",
   "metadata": {},
   "source": [
    "#### Print each neighborhood along with the top 5 most common venues"
   ]
  },
  {
   "cell_type": "code",
   "execution_count": 29,
   "metadata": {
    "collapsed": false
   },
   "outputs": [
    {
     "ename": "NameError",
     "evalue": "name 'seattle_grouped' is not defined",
     "output_type": "error",
     "traceback": [
      "\u001b[0;31m---------------------------------------------------------------------------\u001b[0m",
      "\u001b[0;31mNameError\u001b[0m                                 Traceback (most recent call last)",
      "\u001b[0;32m<ipython-input-29-131497c2148a>\u001b[0m in \u001b[0;36m<module>\u001b[0;34m\u001b[0m\n\u001b[1;32m      1\u001b[0m \u001b[0mnum_top_venues\u001b[0m \u001b[0;34m=\u001b[0m \u001b[0;36m5\u001b[0m\u001b[0;34m\u001b[0m\u001b[0m\n\u001b[1;32m      2\u001b[0m \u001b[0;34m\u001b[0m\u001b[0m\n\u001b[0;32m----> 3\u001b[0;31m \u001b[0;32mfor\u001b[0m \u001b[0mhood\u001b[0m \u001b[0;32min\u001b[0m \u001b[0mseattle_grouped\u001b[0m\u001b[0;34m[\u001b[0m\u001b[0;34m'Neighborhood'\u001b[0m\u001b[0;34m]\u001b[0m\u001b[0;34m:\u001b[0m\u001b[0;34m\u001b[0m\u001b[0m\n\u001b[0m\u001b[1;32m      4\u001b[0m     \u001b[0mprint\u001b[0m \u001b[0;34m(\u001b[0m\u001b[0;34m\"----\"\u001b[0m\u001b[0;34m+\u001b[0m\u001b[0mhood\u001b[0m\u001b[0;34m+\u001b[0m\u001b[0;34m\"----\"\u001b[0m\u001b[0;34m)\u001b[0m\u001b[0;34m\u001b[0m\u001b[0m\n\u001b[1;32m      5\u001b[0m     \u001b[0mtemp\u001b[0m \u001b[0;34m=\u001b[0m \u001b[0mseattle_grouped\u001b[0m\u001b[0;34m[\u001b[0m\u001b[0mseattle_grouped\u001b[0m\u001b[0;34m[\u001b[0m\u001b[0;34m'Neighborhood'\u001b[0m\u001b[0;34m]\u001b[0m \u001b[0;34m==\u001b[0m \u001b[0mhood\u001b[0m\u001b[0;34m]\u001b[0m\u001b[0;34m.\u001b[0m\u001b[0mT\u001b[0m\u001b[0;34m.\u001b[0m\u001b[0mreset_index\u001b[0m\u001b[0;34m(\u001b[0m\u001b[0;34m)\u001b[0m\u001b[0;34m\u001b[0m\u001b[0m\n",
      "\u001b[0;31mNameError\u001b[0m: name 'seattle_grouped' is not defined"
     ]
    }
   ],
   "source": [
    "num_top_venues = 5\n",
    "\n",
    "for hood in seattle_grouped['Neighborhood']:\n",
    "    print (\"----\"+hood+\"----\")\n",
    "    temp = seattle_grouped[seattle_grouped['Neighborhood'] == hood].T.reset_index()\n",
    "    temp.columns = ['venue','freq']\n",
    "    temp = temp.iloc[1:]\n",
    "    temp['freq'] = temp['freq'].astype(float)\n",
    "    temp = temp.round ({'freq': 2})\n",
    "    print (temp.sort_values('freq', ascending=False).reset_index(drop=True).head(num_top_venues))\n",
    "    print ('\\n')"
   ]
  },
  {
   "cell_type": "markdown",
   "metadata": {},
   "source": [
    "#### Put that venues data into a *pandas* dataframe"
   ]
  },
  {
   "cell_type": "markdown",
   "metadata": {},
   "source": [
    "First, let's write a function to sort the venues in descending order."
   ]
  },
  {
   "cell_type": "code",
   "execution_count": 46,
   "metadata": {
    "collapsed": true
   },
   "outputs": [],
   "source": [
    "def return_most_common_venues (row, num_top_venues):\n",
    "    row_categories = row.iloc[1:]\n",
    "    row_categories_sorted = row_categories.sort_values(ascending=False)\n",
    "    \n",
    "    return row_categories_sorted.index.values[0:num_top_venues]"
   ]
  },
  {
   "cell_type": "markdown",
   "metadata": {},
   "source": [
    "### Create the new dataframe and display the top 10 venues for each neighborhood."
   ]
  },
  {
   "cell_type": "code",
   "execution_count": 30,
   "metadata": {
    "collapsed": false
   },
   "outputs": [
    {
     "ename": "NameError",
     "evalue": "name 'seattle_grouped' is not defined",
     "output_type": "error",
     "traceback": [
      "\u001b[0;31m---------------------------------------------------------------------------\u001b[0m",
      "\u001b[0;31mNameError\u001b[0m                                 Traceback (most recent call last)",
      "\u001b[0;32m<ipython-input-30-0dc97ba5c1f7>\u001b[0m in \u001b[0;36m<module>\u001b[0;34m\u001b[0m\n\u001b[1;32m     13\u001b[0m \u001b[0;31m# create a new dataframe\u001b[0m\u001b[0;34m\u001b[0m\u001b[0;34m\u001b[0m\u001b[0m\n\u001b[1;32m     14\u001b[0m \u001b[0mneighborhoods_venues_sorted\u001b[0m \u001b[0;34m=\u001b[0m \u001b[0mpd\u001b[0m\u001b[0;34m.\u001b[0m\u001b[0mDataFrame\u001b[0m \u001b[0;34m(\u001b[0m\u001b[0mcolumns\u001b[0m\u001b[0;34m=\u001b[0m\u001b[0mcolumns\u001b[0m\u001b[0;34m)\u001b[0m\u001b[0;34m\u001b[0m\u001b[0m\n\u001b[0;32m---> 15\u001b[0;31m \u001b[0mneighborhoods_venues_sorted\u001b[0m\u001b[0;34m[\u001b[0m\u001b[0;34m'Neighborhood'\u001b[0m\u001b[0;34m]\u001b[0m \u001b[0;34m=\u001b[0m \u001b[0mseattle_grouped\u001b[0m\u001b[0;34m[\u001b[0m\u001b[0;34m'Neighborhood'\u001b[0m\u001b[0;34m]\u001b[0m\u001b[0;34m\u001b[0m\u001b[0m\n\u001b[0m\u001b[1;32m     16\u001b[0m \u001b[0;34m\u001b[0m\u001b[0m\n\u001b[1;32m     17\u001b[0m \u001b[0;32mfor\u001b[0m \u001b[0mind\u001b[0m \u001b[0;32min\u001b[0m \u001b[0mnp\u001b[0m\u001b[0;34m.\u001b[0m\u001b[0marange\u001b[0m\u001b[0;34m(\u001b[0m\u001b[0mseattle_grouped\u001b[0m\u001b[0;34m.\u001b[0m\u001b[0mshape\u001b[0m\u001b[0;34m[\u001b[0m\u001b[0;36m0\u001b[0m\u001b[0;34m]\u001b[0m\u001b[0;34m)\u001b[0m\u001b[0;34m:\u001b[0m\u001b[0;34m\u001b[0m\u001b[0m\n",
      "\u001b[0;31mNameError\u001b[0m: name 'seattle_grouped' is not defined"
     ]
    }
   ],
   "source": [
    "num_top_venues = 10\n",
    "\n",
    "indicators = ['st', 'nd', 'rd']\n",
    "\n",
    "# create columns according to number of top venues\n",
    "columns = ['Neighborhood']\n",
    "for ind in np.arange(num_top_venues):\n",
    "    try:\n",
    "        columns.append ('{}{} Most Common Venue'.format(ind+1, indicators[ind]))\n",
    "    except:\n",
    "        columns.append ('{}th Most Common Venue'.format(ind+1))\n",
    "\n",
    "# create a new dataframe\n",
    "neighborhoods_venues_sorted = pd.DataFrame (columns=columns)\n",
    "neighborhoods_venues_sorted['Neighborhood'] = seattle_grouped['Neighborhood']\n",
    "\n",
    "for ind in np.arange(seattle_grouped.shape[0]):\n",
    "    neighborhoods_venues_sorted.iloc[ind, 1:] = return_most_common_venues(seattle_grouped.iloc[ind, :], num_top_venues)\n",
    "\n",
    "neighborhoods_venues_sorted"
   ]
  },
  {
   "cell_type": "markdown",
   "metadata": {},
   "source": [
    "<a id='item4'></a>"
   ]
  },
  {
   "cell_type": "markdown",
   "metadata": {},
   "source": [
    "## 4. Cluster Neighborhoods"
   ]
  },
  {
   "cell_type": "markdown",
   "metadata": {},
   "source": [
    "Run *k*-means to cluster the neighborhood into 5 clusters."
   ]
  },
  {
   "cell_type": "code",
   "execution_count": 51,
   "metadata": {
    "collapsed": false
   },
   "outputs": [
    {
     "data": {
      "text/plain": [
       "array([2, 2, 0, 2, 2, 2, 2, 2, 2, 2, 2, 2, 2, 2, 2, 2, 0, 2, 2, 2, 2, 2,\n",
       "       2, 2, 2, 2, 2, 2, 2, 2, 2, 2, 2, 2, 2, 2, 2, 2, 2, 2, 2, 2, 2, 2,\n",
       "       2, 2, 2, 2, 2, 2, 2, 1, 1, 2, 2, 2, 2, 2, 2, 2, 2, 2, 3, 2, 2, 2,\n",
       "       2, 1, 2, 2, 2, 2, 2, 4, 2, 2, 2, 2, 2, 2, 2, 2, 2, 2, 2, 2, 2, 2,\n",
       "       2, 2, 2, 1, 2, 2, 2, 2, 2, 2, 2, 2, 2], dtype=int32)"
      ]
     },
     "execution_count": 51,
     "metadata": {},
     "output_type": "execute_result"
    }
   ],
   "source": [
    "# set number of clusters\n",
    "kclusters = 5\n",
    "\n",
    "seattle_grouped_clustering = seattle_grouped.drop('Neighborhood', 1)\n",
    "\n",
    "# run k-means clustering\n",
    "kmeans = KMeans (n_clusters=kclusters, random_state=0).fit(toronto_grouped_clustering)\n",
    "\n",
    "# check cluster labels generated for each row in the dataframe\n",
    "#kmeans.labels_[0:10] \n",
    "kmeans.labels_"
   ]
  },
  {
   "cell_type": "code",
   "execution_count": 52,
   "metadata": {},
   "outputs": [
    {
     "data": {
      "text/plain": [
       "(101, 278)"
      ]
     },
     "execution_count": 52,
     "metadata": {},
     "output_type": "execute_result"
    }
   ],
   "source": [
    "seattle_grouped_clustering.shape"
   ]
  },
  {
   "cell_type": "code",
   "execution_count": 53,
   "metadata": {},
   "outputs": [
    {
     "data": {
      "text/plain": [
       "(103, 6)"
      ]
     },
     "execution_count": 53,
     "metadata": {},
     "output_type": "execute_result"
    }
   ],
   "source": [
    "df_seattle_data.shape"
   ]
  },
  {
   "cell_type": "code",
   "execution_count": 31,
   "metadata": {},
   "outputs": [
    {
     "ename": "NameError",
     "evalue": "name 'seattle_grouped' is not defined",
     "output_type": "error",
     "traceback": [
      "\u001b[0;31m---------------------------------------------------------------------------\u001b[0m",
      "\u001b[0;31mNameError\u001b[0m                                 Traceback (most recent call last)",
      "\u001b[0;32m<ipython-input-31-e477bdb1c63f>\u001b[0m in \u001b[0;36m<module>\u001b[0;34m\u001b[0m\n\u001b[1;32m      4\u001b[0m \u001b[0mdf_seattle_data_join\u001b[0m \u001b[0;34m=\u001b[0m \u001b[0mdf_seattle_data\u001b[0m\u001b[0;34m.\u001b[0m\u001b[0mrename\u001b[0m\u001b[0;34m(\u001b[0m\u001b[0mcolumns\u001b[0m\u001b[0;34m=\u001b[0m\u001b[0;34m{\u001b[0m\u001b[0;34m'Neighborhood'\u001b[0m\u001b[0;34m:\u001b[0m\u001b[0;34m'Neighborhood'\u001b[0m\u001b[0;34m}\u001b[0m\u001b[0;34m)\u001b[0m \u001b[0;31m# ensure correct spelling\u001b[0m\u001b[0;34m\u001b[0m\u001b[0m\n\u001b[1;32m      5\u001b[0m \u001b[0;34m\u001b[0m\u001b[0m\n\u001b[0;32m----> 6\u001b[0;31m \u001b[0mdf_joined_result\u001b[0m \u001b[0;34m=\u001b[0m \u001b[0mseattle_grouped\u001b[0m\u001b[0;34m.\u001b[0m\u001b[0mjoin\u001b[0m \u001b[0;34m(\u001b[0m\u001b[0mdf_seattle_data_join\u001b[0m\u001b[0;34m.\u001b[0m\u001b[0mset_index\u001b[0m\u001b[0;34m(\u001b[0m\u001b[0;34m'Neighborhood'\u001b[0m\u001b[0;34m)\u001b[0m\u001b[0;34m,\u001b[0m \u001b[0mon\u001b[0m\u001b[0;34m=\u001b[0m\u001b[0;34m'Neighborhood'\u001b[0m\u001b[0;34m)\u001b[0m\u001b[0;34m\u001b[0m\u001b[0m\n\u001b[0m\u001b[1;32m      7\u001b[0m \u001b[0;34m\u001b[0m\u001b[0m\n\u001b[1;32m      8\u001b[0m \u001b[0mdf_joined_result\u001b[0m\u001b[0;34m.\u001b[0m\u001b[0mhead\u001b[0m \u001b[0;34m(\u001b[0m\u001b[0;36m10\u001b[0m\u001b[0;34m)\u001b[0m\u001b[0;34m\u001b[0m\u001b[0m\n",
      "\u001b[0;31mNameError\u001b[0m: name 'seattle_grouped' is not defined"
     ]
    }
   ],
   "source": [
    "# Do an inner join, to eliminate any df_toronto_data neighborhoods that did not get results on the 4-square query\n",
    "# Otherwise, we get blown out in the next step because the shapes don't match: e.g. 103 rows vs 101 rows\n",
    "\n",
    "df_seattle_data_join = df_seattle_data.rename(columns={'Neighborhood':'Neighborhood'}) # ensure correct spelling\n",
    "\n",
    "df_joined_result = seattle_grouped.join (df_seattle_data_join.set_index('Neighborhood'), on='Neighborhood')\n",
    "\n",
    "df_joined_result.head (10)"
   ]
  },
  {
   "cell_type": "markdown",
   "metadata": {},
   "source": [
    "Let's create a new dataframe that includes the cluster as well as the top 10 venues for each neighborhood."
   ]
  },
  {
   "cell_type": "code",
   "execution_count": 32,
   "metadata": {
    "collapsed": false
   },
   "outputs": [
    {
     "ename": "NameError",
     "evalue": "name 'df_joined_result' is not defined",
     "output_type": "error",
     "traceback": [
      "\u001b[0;31m---------------------------------------------------------------------------\u001b[0m",
      "\u001b[0;31mNameError\u001b[0m                                 Traceback (most recent call last)",
      "\u001b[0;32m<ipython-input-32-da0c13435ca9>\u001b[0m in \u001b[0;36m<module>\u001b[0;34m\u001b[0m\n\u001b[0;32m----> 1\u001b[0;31m \u001b[0mseattle_merged\u001b[0m \u001b[0;34m=\u001b[0m \u001b[0mdf_joined_result\u001b[0m\u001b[0;34m\u001b[0m\u001b[0m\n\u001b[0m\u001b[1;32m      2\u001b[0m \u001b[0;34m\u001b[0m\u001b[0m\n\u001b[1;32m      3\u001b[0m \u001b[0;31m# add clustering labels\u001b[0m\u001b[0;34m\u001b[0m\u001b[0;34m\u001b[0m\u001b[0m\n\u001b[1;32m      4\u001b[0m \u001b[0mseattle_merged\u001b[0m\u001b[0;34m[\u001b[0m\u001b[0;34m'Cluster Labels'\u001b[0m\u001b[0;34m]\u001b[0m \u001b[0;34m=\u001b[0m \u001b[0mkmeans\u001b[0m\u001b[0;34m.\u001b[0m\u001b[0mlabels_\u001b[0m\u001b[0;34m\u001b[0m\u001b[0m\n\u001b[1;32m      5\u001b[0m \u001b[0;34m\u001b[0m\u001b[0m\n",
      "\u001b[0;31mNameError\u001b[0m: name 'df_joined_result' is not defined"
     ]
    }
   ],
   "source": [
    "seattle_merged = df_joined_result\n",
    "\n",
    "# add clustering labels\n",
    "seattle_merged['Cluster Labels'] = kmeans.labels_\n",
    "\n",
    "################################################################\n",
    "# merge toronto_grouped with toronto_data PANDAs to add latitude/longitude for each neighborhood\n",
    "################################################################\n",
    "seattle_merged = seattle_merged.join (neighborhoods_venues_sorted.set_index('Neighborhood'), on='Neighborhood')\n",
    "\n",
    "seattle_merged.head()"
   ]
  },
  {
   "cell_type": "markdown",
   "metadata": {},
   "source": [
    "Finally, let's visualize the resulting clusters"
   ]
  },
  {
   "cell_type": "code",
   "execution_count": 57,
   "metadata": {
    "collapsed": false
   },
   "outputs": [
    {
     "data": {
      "text/html": [
       "<div style=\"width:100%;\"><div style=\"position:relative;width:100%;height:0;padding-bottom:60%;\"><iframe src=\"data:text/html;charset=utf-8;base64,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\" style=\"position:absolute;width:100%;height:100%;left:0;top:0;border:none !important;\" allowfullscreen webkitallowfullscreen mozallowfullscreen></iframe></div></div>"
      ],
      "text/plain": [
       "<folium.folium.Map at 0x7f5bc2fe1a58>"
      ]
     },
     "execution_count": 57,
     "metadata": {},
     "output_type": "execute_result"
    }
   ],
   "source": [
    "# Week 2 TBD\n",
    "\n",
    "# create map\n",
    "map_clusters = folium.Map (location=[latitude, longitude], zoom_start=11)\n",
    "\n",
    "# set color scheme for the clusters\n",
    "x = np.arange (kclusters)\n",
    "\n",
    "ys = [i+x+(i*x)**2 for i in range(kclusters)]\n",
    "\n",
    "colors_array = cm.rainbow(np.linspace(0, 1, len(ys)))\n",
    "rainbow = [colors.rgb2hex(i) for i in colors_array]\n",
    "\n",
    "# add markers to the map\n",
    "markers_colors = []\n",
    "for lat, lon, poi, cluster in zip(seattle_merged['Latitude'], seattle_merged['Longitude'], seattle_merged['Neighborhood'], seattle_merged['Cluster Labels']):\n",
    "    label = folium.Popup (str(poi) + ' Cluster ' + str(cluster), parse_html=True)\n",
    "    folium.CircleMarker (\n",
    "        [lat, lon],\n",
    "        radius=5,\n",
    "        popup=label,\n",
    "        color=rainbow[cluster-1],\n",
    "        fill=True,\n",
    "        fill_color=rainbow[cluster-1],\n",
    "        fill_opacity=0.7).add_to(map_clusters)\n",
    "       \n",
    "map_clusters"
   ]
  },
  {
   "cell_type": "markdown",
   "metadata": {},
   "source": [
    "<a id='item5'></a>"
   ]
  },
  {
   "cell_type": "markdown",
   "metadata": {},
   "source": [
    "## 5. Examine Clusters"
   ]
  },
  {
   "cell_type": "markdown",
   "metadata": {},
   "source": [
    "Week 2 TBD\n",
    "\n",
    "Examine each cluster and determine the discriminating venue categories that distinguish each cluster. Based on the defining categories, you can then assign a name to each cluster. I will leave this exercise to you."
   ]
  },
  {
   "cell_type": "markdown",
   "metadata": {},
   "source": [
    "#### Cluster 1"
   ]
  },
  {
   "cell_type": "code",
   "execution_count": 33,
   "metadata": {
    "collapsed": false
   },
   "outputs": [
    {
     "ename": "NameError",
     "evalue": "name 'seattle_merged' is not defined",
     "output_type": "error",
     "traceback": [
      "\u001b[0;31m---------------------------------------------------------------------------\u001b[0m",
      "\u001b[0;31mNameError\u001b[0m                                 Traceback (most recent call last)",
      "\u001b[0;32m<ipython-input-33-37cc8c40d075>\u001b[0m in \u001b[0;36m<module>\u001b[0;34m\u001b[0m\n\u001b[0;32m----> 1\u001b[0;31m \u001b[0mseattle_merged\u001b[0m\u001b[0;34m.\u001b[0m\u001b[0mloc\u001b[0m\u001b[0;34m[\u001b[0m\u001b[0mseattle_merged\u001b[0m\u001b[0;34m[\u001b[0m\u001b[0;34m'Cluster Labels'\u001b[0m\u001b[0;34m]\u001b[0m \u001b[0;34m==\u001b[0m \u001b[0;36m0\u001b[0m\u001b[0;34m,\u001b[0m \u001b[0mseattle_merged\u001b[0m\u001b[0;34m.\u001b[0m\u001b[0mcolumns\u001b[0m\u001b[0;34m[\u001b[0m\u001b[0;34m[\u001b[0m\u001b[0;36m1\u001b[0m\u001b[0;34m]\u001b[0m \u001b[0;34m+\u001b[0m \u001b[0mlist\u001b[0m\u001b[0;34m(\u001b[0m\u001b[0mrange\u001b[0m\u001b[0;34m(\u001b[0m\u001b[0;36m5\u001b[0m\u001b[0;34m,\u001b[0m \u001b[0mseattle_merged\u001b[0m\u001b[0;34m.\u001b[0m\u001b[0mshape\u001b[0m\u001b[0;34m[\u001b[0m\u001b[0;36m1\u001b[0m\u001b[0;34m]\u001b[0m\u001b[0;34m)\u001b[0m\u001b[0;34m)\u001b[0m\u001b[0;34m]\u001b[0m\u001b[0;34m]\u001b[0m\u001b[0;34m\u001b[0m\u001b[0m\n\u001b[0m",
      "\u001b[0;31mNameError\u001b[0m: name 'seattle_merged' is not defined"
     ]
    }
   ],
   "source": [
    "seattle_merged.loc[seattle_merged['Cluster Labels'] == 0, seattle_merged.columns[[1] + list(range(5, seattle_merged.shape[1]))]]"
   ]
  },
  {
   "cell_type": "markdown",
   "metadata": {},
   "source": [
    "#### Cluster 2"
   ]
  },
  {
   "cell_type": "code",
   "execution_count": 34,
   "metadata": {
    "collapsed": false
   },
   "outputs": [
    {
     "ename": "NameError",
     "evalue": "name 'seattle_merged' is not defined",
     "output_type": "error",
     "traceback": [
      "\u001b[0;31m---------------------------------------------------------------------------\u001b[0m",
      "\u001b[0;31mNameError\u001b[0m                                 Traceback (most recent call last)",
      "\u001b[0;32m<ipython-input-34-d9d76ea2a118>\u001b[0m in \u001b[0;36m<module>\u001b[0;34m\u001b[0m\n\u001b[0;32m----> 1\u001b[0;31m \u001b[0mseattle_merged\u001b[0m\u001b[0;34m.\u001b[0m\u001b[0mloc\u001b[0m\u001b[0;34m[\u001b[0m\u001b[0mseattle_merged\u001b[0m\u001b[0;34m[\u001b[0m\u001b[0;34m'Cluster Labels'\u001b[0m\u001b[0;34m]\u001b[0m \u001b[0;34m==\u001b[0m \u001b[0;36m1\u001b[0m\u001b[0;34m,\u001b[0m \u001b[0mseattle_merged\u001b[0m\u001b[0;34m.\u001b[0m\u001b[0mcolumns\u001b[0m\u001b[0;34m[\u001b[0m\u001b[0;34m[\u001b[0m\u001b[0;36m1\u001b[0m\u001b[0;34m]\u001b[0m \u001b[0;34m+\u001b[0m \u001b[0mlist\u001b[0m\u001b[0;34m(\u001b[0m\u001b[0mrange\u001b[0m\u001b[0;34m(\u001b[0m\u001b[0;36m5\u001b[0m\u001b[0;34m,\u001b[0m \u001b[0mseattle_merged\u001b[0m\u001b[0;34m.\u001b[0m\u001b[0mshape\u001b[0m\u001b[0;34m[\u001b[0m\u001b[0;36m1\u001b[0m\u001b[0;34m]\u001b[0m\u001b[0;34m)\u001b[0m\u001b[0;34m)\u001b[0m\u001b[0;34m]\u001b[0m\u001b[0;34m]\u001b[0m\u001b[0;34m\u001b[0m\u001b[0m\n\u001b[0m",
      "\u001b[0;31mNameError\u001b[0m: name 'seattle_merged' is not defined"
     ]
    }
   ],
   "source": [
    "seattle_merged.loc[seattle_merged['Cluster Labels'] == 1, seattle_merged.columns[[1] + list(range(5, seattle_merged.shape[1]))]]"
   ]
  },
  {
   "cell_type": "markdown",
   "metadata": {},
   "source": [
    "#### Cluster 3"
   ]
  },
  {
   "cell_type": "code",
   "execution_count": 35,
   "metadata": {
    "collapsed": false
   },
   "outputs": [
    {
     "ename": "NameError",
     "evalue": "name 'seattle_merged' is not defined",
     "output_type": "error",
     "traceback": [
      "\u001b[0;31m---------------------------------------------------------------------------\u001b[0m",
      "\u001b[0;31mNameError\u001b[0m                                 Traceback (most recent call last)",
      "\u001b[0;32m<ipython-input-35-712d4fee516b>\u001b[0m in \u001b[0;36m<module>\u001b[0;34m\u001b[0m\n\u001b[0;32m----> 1\u001b[0;31m \u001b[0mseattle_merged\u001b[0m\u001b[0;34m.\u001b[0m\u001b[0mloc\u001b[0m\u001b[0;34m[\u001b[0m\u001b[0mseattle_merged\u001b[0m\u001b[0;34m[\u001b[0m\u001b[0;34m'Cluster Labels'\u001b[0m\u001b[0;34m]\u001b[0m \u001b[0;34m==\u001b[0m \u001b[0;36m2\u001b[0m\u001b[0;34m,\u001b[0m \u001b[0mseattle_merged\u001b[0m\u001b[0;34m.\u001b[0m\u001b[0mcolumns\u001b[0m\u001b[0;34m[\u001b[0m\u001b[0;34m[\u001b[0m\u001b[0;36m1\u001b[0m\u001b[0;34m]\u001b[0m \u001b[0;34m+\u001b[0m \u001b[0mlist\u001b[0m\u001b[0;34m(\u001b[0m\u001b[0mrange\u001b[0m\u001b[0;34m(\u001b[0m\u001b[0;36m5\u001b[0m\u001b[0;34m,\u001b[0m \u001b[0mseattle_merged\u001b[0m\u001b[0;34m.\u001b[0m\u001b[0mshape\u001b[0m\u001b[0;34m[\u001b[0m\u001b[0;36m1\u001b[0m\u001b[0;34m]\u001b[0m\u001b[0;34m)\u001b[0m\u001b[0;34m)\u001b[0m\u001b[0;34m]\u001b[0m\u001b[0;34m]\u001b[0m\u001b[0;34m\u001b[0m\u001b[0m\n\u001b[0m",
      "\u001b[0;31mNameError\u001b[0m: name 'seattle_merged' is not defined"
     ]
    }
   ],
   "source": [
    "seattle_merged.loc[seattle_merged['Cluster Labels'] == 2, seattle_merged.columns[[1] + list(range(5, seattle_merged.shape[1]))]]"
   ]
  },
  {
   "cell_type": "markdown",
   "metadata": {},
   "source": [
    "#### Cluster 4"
   ]
  },
  {
   "cell_type": "code",
   "execution_count": 36,
   "metadata": {
    "collapsed": false
   },
   "outputs": [
    {
     "ename": "NameError",
     "evalue": "name 'seattle_merged' is not defined",
     "output_type": "error",
     "traceback": [
      "\u001b[0;31m---------------------------------------------------------------------------\u001b[0m",
      "\u001b[0;31mNameError\u001b[0m                                 Traceback (most recent call last)",
      "\u001b[0;32m<ipython-input-36-eb62d78c190f>\u001b[0m in \u001b[0;36m<module>\u001b[0;34m\u001b[0m\n\u001b[0;32m----> 1\u001b[0;31m \u001b[0mseattle_merged\u001b[0m\u001b[0;34m.\u001b[0m\u001b[0mloc\u001b[0m\u001b[0;34m[\u001b[0m\u001b[0mseattle_merged\u001b[0m\u001b[0;34m[\u001b[0m\u001b[0;34m'Cluster Labels'\u001b[0m\u001b[0;34m]\u001b[0m \u001b[0;34m==\u001b[0m \u001b[0;36m3\u001b[0m\u001b[0;34m,\u001b[0m \u001b[0mseattle_merged\u001b[0m\u001b[0;34m.\u001b[0m\u001b[0mcolumns\u001b[0m\u001b[0;34m[\u001b[0m\u001b[0;34m[\u001b[0m\u001b[0;36m1\u001b[0m\u001b[0;34m]\u001b[0m \u001b[0;34m+\u001b[0m \u001b[0mlist\u001b[0m\u001b[0;34m(\u001b[0m\u001b[0mrange\u001b[0m\u001b[0;34m(\u001b[0m\u001b[0;36m5\u001b[0m\u001b[0;34m,\u001b[0m \u001b[0mseattle_merged\u001b[0m\u001b[0;34m.\u001b[0m\u001b[0mshape\u001b[0m\u001b[0;34m[\u001b[0m\u001b[0;36m1\u001b[0m\u001b[0;34m]\u001b[0m\u001b[0;34m)\u001b[0m\u001b[0;34m)\u001b[0m\u001b[0;34m]\u001b[0m\u001b[0;34m]\u001b[0m\u001b[0;34m\u001b[0m\u001b[0m\n\u001b[0m",
      "\u001b[0;31mNameError\u001b[0m: name 'seattle_merged' is not defined"
     ]
    }
   ],
   "source": [
    "seattle_merged.loc[seattle_merged['Cluster Labels'] == 3, seattle_merged.columns[[1] + list(range(5, seattle_merged.shape[1]))]]"
   ]
  },
  {
   "cell_type": "markdown",
   "metadata": {},
   "source": [
    "#### Cluster 5"
   ]
  },
  {
   "cell_type": "code",
   "execution_count": 37,
   "metadata": {
    "collapsed": false
   },
   "outputs": [
    {
     "ename": "NameError",
     "evalue": "name 'seattle_merged' is not defined",
     "output_type": "error",
     "traceback": [
      "\u001b[0;31m---------------------------------------------------------------------------\u001b[0m",
      "\u001b[0;31mNameError\u001b[0m                                 Traceback (most recent call last)",
      "\u001b[0;32m<ipython-input-37-5f8430f0f4bd>\u001b[0m in \u001b[0;36m<module>\u001b[0;34m\u001b[0m\n\u001b[0;32m----> 1\u001b[0;31m \u001b[0mseattle_merged\u001b[0m\u001b[0;34m.\u001b[0m\u001b[0mloc\u001b[0m\u001b[0;34m[\u001b[0m\u001b[0mseattle_merged\u001b[0m\u001b[0;34m[\u001b[0m\u001b[0;34m'Cluster Labels'\u001b[0m\u001b[0;34m]\u001b[0m \u001b[0;34m==\u001b[0m \u001b[0;36m4\u001b[0m\u001b[0;34m,\u001b[0m \u001b[0mseattle_merged\u001b[0m\u001b[0;34m.\u001b[0m\u001b[0mcolumns\u001b[0m\u001b[0;34m[\u001b[0m\u001b[0;34m[\u001b[0m\u001b[0;36m1\u001b[0m\u001b[0;34m]\u001b[0m \u001b[0;34m+\u001b[0m \u001b[0mlist\u001b[0m\u001b[0;34m(\u001b[0m\u001b[0mrange\u001b[0m\u001b[0;34m(\u001b[0m\u001b[0;36m5\u001b[0m\u001b[0;34m,\u001b[0m \u001b[0mseattle_merged\u001b[0m\u001b[0;34m.\u001b[0m\u001b[0mshape\u001b[0m\u001b[0;34m[\u001b[0m\u001b[0;36m1\u001b[0m\u001b[0;34m]\u001b[0m\u001b[0;34m)\u001b[0m\u001b[0;34m)\u001b[0m\u001b[0;34m]\u001b[0m\u001b[0;34m]\u001b[0m\u001b[0;34m\u001b[0m\u001b[0m\n\u001b[0m",
      "\u001b[0;31mNameError\u001b[0m: name 'seattle_merged' is not defined"
     ]
    }
   ],
   "source": [
    "seattle_merged.loc[seattle_merged['Cluster Labels'] == 4, seattle_merged.columns[[1] + list(range(5, seattle_merged.shape[1]))]]"
   ]
  },
  {
   "cell_type": "code",
   "execution_count": null,
   "metadata": {},
   "outputs": [],
   "source": []
  },
  {
   "cell_type": "code",
   "execution_count": null,
   "metadata": {},
   "outputs": [],
   "source": []
  },
  {
   "cell_type": "markdown",
   "metadata": {},
   "source": [
    "TDB Week 2\n",
    "\n",
    "Additional aalysis and final data rollup"
   ]
  },
  {
   "cell_type": "code",
   "execution_count": null,
   "metadata": {},
   "outputs": [],
   "source": []
  },
  {
   "cell_type": "code",
   "execution_count": null,
   "metadata": {},
   "outputs": [],
   "source": []
  },
  {
   "cell_type": "markdown",
   "metadata": {},
   "source": [
    "# 4. Results Section"
   ]
  },
  {
   "cell_type": "markdown",
   "metadata": {},
   "source": [
    "tbd Week 2"
   ]
  },
  {
   "cell_type": "markdown",
   "metadata": {},
   "source": [
    "# 5. Discussion Section"
   ]
  },
  {
   "cell_type": "markdown",
   "metadata": {},
   "source": [
    "tbd Week 2"
   ]
  },
  {
   "cell_type": "markdown",
   "metadata": {},
   "source": [
    "# 6. Conclusion Section"
   ]
  },
  {
   "cell_type": "markdown",
   "metadata": {},
   "source": [
    "tbd Week 2"
   ]
  },
  {
   "cell_type": "code",
   "execution_count": null,
   "metadata": {},
   "outputs": [],
   "source": []
  }
 ],
 "metadata": {
  "kernelspec": {
   "display_name": "Python 3",
   "language": "python",
   "name": "python3"
  },
  "language_info": {
   "codemirror_mode": {
    "name": "ipython",
    "version": 3
   },
   "file_extension": ".py",
   "mimetype": "text/x-python",
   "name": "python",
   "nbconvert_exporter": "python",
   "pygments_lexer": "ipython3",
   "version": "3.6.6"
  },
  "widgets": {
   "state": {},
   "version": "1.1.2"
  }
 },
 "nbformat": 4,
 "nbformat_minor": 2
}
